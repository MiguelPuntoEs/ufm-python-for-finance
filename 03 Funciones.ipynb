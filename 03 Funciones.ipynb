{
 "cells": [
  {
   "cell_type": "markdown",
   "id": "fd80d8a7",
   "metadata": {},
   "source": [
    "# Funciones\n",
    "\n",
    "Las funciones son útiles para encapsular código en dos tipos de situaciones:\n",
    "1. Cuando se repiten las mismas líneas de código en varias partes del proyecto\n",
    "1. Cuando se quiere reducir la complejidad de un código dividiendo un problema complejo en varios problemas más sencillos\n",
    "\n",
    "Para definir una función se usa la palabra reservada `def`, siguiendo con el nombre de la función, y, entre paréntesis, los argumentos que toma la misma.\n",
    "\n",
    "Un ejemplo para ilustrar:\n",
    "```python\n",
    "def saludar(nombre):\n",
    "```\n",
    "\n",
    "En este caso la función tiene el nombre `saludar` toma como argumento `nombre`. El contenido de la función vendrá después de los dos puntos con un sangrado:\n",
    "\n",
    "```python\n",
    "def saludar(nombre):\n",
    "    print(\"Hola, {nombre}\")\n",
    "```\n",
    "\n",
    "La función imprimirá \"Hola, Juan\", si la llamamos así: \n",
    "```python\n",
    "saludar(\"Juan\")\n",
    "```\n",
    "\n",
    "Si, en lugar de imprimir directamente queremos que la función retorne el saludo y decidir nosotros después si quremos imprimir o no, usaremos la palabra reservada `return`:\n",
    "\n",
    "```python\n",
    "def saludar(nombre):\n",
    "    return \"Hola, {nombre}\"\n",
    "```\n",
    "\n",
    "De este modo, podemos hacer lo siguiente:\n",
    "```python\n",
    "saludo = saludar(\"Juan\")\n",
    "```\n",
    "Y `saludo` contendrá `\"Hola, Juan\"`.\n",
    "\n",
    "Si además queremos anotar el tipo de los argumentos de entrada y salida – cosa que deberíamos hacer siempre –, podemos hacerlo de la siguiente manera:\n",
    "```python\n",
    "def saludar(nombre: str) -> str:\n",
    "    return \"Hola, {nombre}\"\n",
    "```\n",
    "\n",
    "Así, `nombre` será de tipo `str`, y la función retornará también `str`."
   ]
  },
  {
   "cell_type": "code",
   "execution_count": 1,
   "id": "7b2fba55",
   "metadata": {},
   "outputs": [
    {
     "name": "stdout",
     "output_type": "stream",
     "text": [
      "0 es par.\n",
      "1 es impar.\n",
      "2 es par.\n",
      "3 es impar.\n",
      "4 es par.\n",
      "5 es impar.\n",
      "6 es par.\n",
      "7 es impar.\n",
      "8 es par.\n",
      "9 es impar.\n"
     ]
    }
   ],
   "source": [
    "for i in range(10):\n",
    "    if i % 2 == 0:\n",
    "        print(f\"{i} es par.\")\n",
    "    else:\n",
    "        print(f\"{i} es impar.\")"
   ]
  },
  {
   "cell_type": "code",
   "execution_count": 2,
   "id": "9e4f727b",
   "metadata": {},
   "outputs": [
    {
     "data": {
      "text/plain": [
       "'10 es par.'"
      ]
     },
     "execution_count": 2,
     "metadata": {},
     "output_type": "execute_result"
    }
   ],
   "source": [
    "def es_par(i):\n",
    "    if i % 2 == 0:\n",
    "        return f\"{i} es par.\"\n",
    "    else:\n",
    "        return f\"{i} es impar.\"\n",
    "\n",
    "\n",
    "es_par(10)"
   ]
  },
  {
   "cell_type": "code",
   "execution_count": 3,
   "id": "1a2fc762",
   "metadata": {},
   "outputs": [
    {
     "name": "stdout",
     "output_type": "stream",
     "text": [
      "0 es par.\n",
      "1 es impar.\n",
      "2 es par.\n",
      "3 es impar.\n",
      "4 es par.\n",
      "5 es impar.\n",
      "6 es par.\n",
      "7 es impar.\n",
      "8 es par.\n",
      "9 es impar.\n",
      "10 es par.\n",
      "11 es impar.\n",
      "12 es par.\n",
      "13 es impar.\n",
      "14 es par.\n"
     ]
    }
   ],
   "source": [
    "for i in range(15):\n",
    "    print(es_par(i))"
   ]
  }
 ],
 "metadata": {
  "kernelspec": {
   "display_name": "ufm-python-for-finance",
   "language": "python",
   "name": "python3"
  },
  "language_info": {
   "codemirror_mode": {
    "name": "ipython",
    "version": 3
   },
   "file_extension": ".py",
   "mimetype": "text/x-python",
   "name": "python",
   "nbconvert_exporter": "python",
   "pygments_lexer": "ipython3",
   "version": "3.13.5"
  }
 },
 "nbformat": 4,
 "nbformat_minor": 5
}
