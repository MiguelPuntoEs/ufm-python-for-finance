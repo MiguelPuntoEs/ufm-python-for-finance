{
 "cells": [
  {
   "cell_type": "markdown",
   "id": "964ad411",
   "metadata": {},
   "source": [
    "# Introducción\n",
    "\n",
    "## Tipos de variables"
   ]
  },
  {
   "cell_type": "code",
   "execution_count": 2,
   "id": "a3fa3bb9",
   "metadata": {},
   "outputs": [],
   "source": [
    "nombre = \"Juan\"\n",
    "puntos = 149"
   ]
  },
  {
   "cell_type": "code",
   "execution_count": 3,
   "id": "b9a1446f",
   "metadata": {},
   "outputs": [],
   "source": [
    "total_puntos = 150"
   ]
  },
  {
   "cell_type": "code",
   "execution_count": 4,
   "id": "ed7f538e",
   "metadata": {},
   "outputs": [
    {
     "data": {
      "text/plain": [
       "0.9933333333333333"
      ]
     },
     "execution_count": 4,
     "metadata": {},
     "output_type": "execute_result"
    }
   ],
   "source": [
    "nota = puntos / total_puntos\n",
    "nota"
   ]
  },
  {
   "cell_type": "code",
   "execution_count": 5,
   "id": "d2aa625e",
   "metadata": {},
   "outputs": [],
   "source": [
    "alumnos = [\"Juan\", \"Pedro\", \"María\"]"
   ]
  },
  {
   "cell_type": "code",
   "execution_count": 6,
   "id": "25a94249",
   "metadata": {},
   "outputs": [],
   "source": [
    "info_alumno = {\"nombre\": \"Juan\", \"puntos\": 78, \"nota\": 78/total_puntos }"
   ]
  },
  {
   "cell_type": "code",
   "execution_count": 7,
   "id": "f5e93a87",
   "metadata": {},
   "outputs": [],
   "source": [
    "info_alumnos = [\n",
    "    {\"nombre\": \"Juan\", \"puntos\": 78, \"nota\": 78/total_puntos },\n",
    "    {\"nombre\": \"María\", \"puntos\": 51, \"nota\": 51/total_puntos },\n",
    "    {\"nombre\": \"Pedro\", \"puntos\": 31, \"nota\": 31/total_puntos }\n",
    "]"
   ]
  },
  {
   "cell_type": "markdown",
   "id": "19da8055",
   "metadata": {},
   "source": [
    "## Condicionales"
   ]
  },
  {
   "cell_type": "code",
   "execution_count": 8,
   "id": "1d583104",
   "metadata": {},
   "outputs": [
    {
     "name": "stdout",
     "output_type": "stream",
     "text": [
      "El alumno ha superado el curso correctamente\n",
      "Aprobado\n"
     ]
    }
   ],
   "source": [
    "if nota*100 >= 60.5:\n",
    "    print(\"El alumno ha superado el curso correctamente\")\n",
    "    print(\"Aprobado\")\n",
    "else:\n",
    "    print(\"Suspenso\")"
   ]
  },
  {
   "cell_type": "markdown",
   "id": "6ab12daa",
   "metadata": {},
   "source": [
    "## Bucles\n",
    "\n",
    "### Bucle tipo `for`"
   ]
  },
  {
   "cell_type": "code",
   "execution_count": 9,
   "id": "d9bbda40",
   "metadata": {},
   "outputs": [
    {
     "name": "stdout",
     "output_type": "stream",
     "text": [
      "Hola, Juan\n",
      "Hola, Pedro\n",
      "Hola, María\n"
     ]
    }
   ],
   "source": [
    "for alumno in alumnos:\n",
    "    print(\"Hola, \"+alumno)"
   ]
  },
  {
   "cell_type": "code",
   "execution_count": 10,
   "id": "901a8c48",
   "metadata": {},
   "outputs": [
    {
     "name": "stdout",
     "output_type": "stream",
     "text": [
      "El alumno Juan ha sacado una nota de 52.00%\n",
      "El alumno María ha sacado una nota de 34.00%\n",
      "El alumno Pedro ha sacado una nota de 20.67%\n"
     ]
    }
   ],
   "source": [
    "for info_alumno in info_alumnos:\n",
    "    print(f\"El alumno {info_alumno[\"nombre\"]} ha sacado una nota de {info_alumno[\"nota\"]:.2%}\")"
   ]
  },
  {
   "cell_type": "code",
   "execution_count": 11,
   "id": "f16a708c",
   "metadata": {},
   "outputs": [
    {
     "name": "stdout",
     "output_type": "stream",
     "text": [
      "0 es par\n",
      "1 es impar\n",
      "2 es par\n",
      "3 es impar\n",
      "4 es par\n",
      "5 es impar\n",
      "6 es par\n",
      "7 es impar\n",
      "8 es par\n",
      "9 es impar\n"
     ]
    }
   ],
   "source": [
    "for i in range(10):\n",
    "    if i % 2 == 0:\n",
    "        print(f\"{i} es par\")\n",
    "    else:\n",
    "        print(f\"{i} es impar\")"
   ]
  },
  {
   "cell_type": "markdown",
   "id": "35dd1411",
   "metadata": {},
   "source": [
    "### Bucle tipo `while`"
   ]
  },
  {
   "cell_type": "code",
   "execution_count": 12,
   "id": "b60c09e7",
   "metadata": {},
   "outputs": [
    {
     "name": "stdout",
     "output_type": "stream",
     "text": [
      "0\n",
      "1\n",
      "2\n",
      "3\n",
      "4\n",
      "5\n",
      "6\n",
      "7\n",
      "8\n",
      "9\n"
     ]
    }
   ],
   "source": [
    "i = 0\n",
    "\n",
    "while i < 10:\n",
    "    print(i)\n",
    "    i = i+1"
   ]
  }
 ],
 "metadata": {
  "kernelspec": {
   "display_name": ".venv",
   "language": "python",
   "name": "python3"
  },
  "language_info": {
   "codemirror_mode": {
    "name": "ipython",
    "version": 3
   },
   "file_extension": ".py",
   "mimetype": "text/x-python",
   "name": "python",
   "nbconvert_exporter": "python",
   "pygments_lexer": "ipython3",
   "version": "3.13.7"
  }
 },
 "nbformat": 4,
 "nbformat_minor": 5
}
