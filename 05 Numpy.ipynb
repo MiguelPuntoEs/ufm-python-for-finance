{
 "cells": [
  {
   "cell_type": "markdown",
   "id": "756ebb74",
   "metadata": {},
   "source": [
    "# NumPy\n",
    "\n",
    "El paquete NumPy es fundamental para aplicaciones de cálculo numérico, álgebra, etc.\n",
    "\n",
    "Se recomienda la lectura de las siguientes referencias:\n",
    "* [NumPy User Guide](https://numpy.org/doc/2.0/user/index.html),\n",
    "* Y, en profundidad: [NumPy: the absolute basics for beginners](https://numpy.org/doc/2.0/user/absolute_beginners.html)"
   ]
  },
  {
   "cell_type": "code",
   "execution_count": null,
   "id": "7329ac75",
   "metadata": {},
   "outputs": [],
   "source": [
    "for numero in range(10):\n",
    "    if numero % 2 == 0:\n",
    "        print(f\"{numero} es par\")"
   ]
  },
  {
   "cell_type": "code",
   "execution_count": null,
   "id": "81ecebe9",
   "metadata": {},
   "outputs": [],
   "source": [
    "nombres = [\"Juan\", \"María\", \"José\"]\n",
    "\n",
    "for nombre in nombres:\n",
    "    print(f\"Hola, {nombre}. Tu nombre tiene {len(nombre)} letras\")"
   ]
  },
  {
   "cell_type": "markdown",
   "id": "1e97abf1",
   "metadata": {},
   "source": [
    "## List comprehensions"
   ]
  },
  {
   "cell_type": "code",
   "execution_count": 111,
   "id": "ed83126c",
   "metadata": {},
   "outputs": [
    {
     "data": {
      "text/plain": [
       "['Juan', 'María', 'José', 'Auxiliadora']"
      ]
     },
     "execution_count": 111,
     "metadata": {},
     "output_type": "execute_result"
    }
   ],
   "source": [
    "[nombre for nombre in nombres]"
   ]
  },
  {
   "cell_type": "code",
   "execution_count": null,
   "id": "b61571d8",
   "metadata": {},
   "outputs": [
    {
     "data": {
      "text/plain": [
       "[2, 4, 6, 8, 10]"
      ]
     },
     "execution_count": 112,
     "metadata": {},
     "output_type": "execute_result"
    }
   ],
   "source": [
    "x = [1,2,3,4,5]\n",
    "y = []\n",
    "\n",
    "for i in x:\n",
    "    y.append(2*i)\n",
    "\n",
    "y"
   ]
  },
  {
   "cell_type": "code",
   "execution_count": 113,
   "id": "40390078",
   "metadata": {},
   "outputs": [
    {
     "data": {
      "text/plain": [
       "[2, 4, 6, 8, 10]"
      ]
     },
     "execution_count": 113,
     "metadata": {},
     "output_type": "execute_result"
    }
   ],
   "source": [
    "y = [2*i for i in x]\n",
    "y"
   ]
  },
  {
   "cell_type": "code",
   "execution_count": 114,
   "id": "b4b8504f",
   "metadata": {},
   "outputs": [
    {
     "data": {
      "text/plain": [
       "[4, 5, 4, 11]"
      ]
     },
     "execution_count": 114,
     "metadata": {},
     "output_type": "execute_result"
    }
   ],
   "source": [
    "nombres = [\"Juan\", \"María\", \"José\", \"Auxiliadora\"]\n",
    "[len(nombre) for nombre in nombres]"
   ]
  },
  {
   "cell_type": "code",
   "execution_count": 115,
   "id": "9c1a9098",
   "metadata": {},
   "outputs": [
    {
     "data": {
      "text/plain": [
       "[0, 2, 4, 6, 8]"
      ]
     },
     "execution_count": 115,
     "metadata": {},
     "output_type": "execute_result"
    }
   ],
   "source": [
    "[numero for numero in range(10) if numero % 2 == 0]"
   ]
  },
  {
   "cell_type": "markdown",
   "id": "90db0d0e",
   "metadata": {},
   "source": [
    "## Motivación "
   ]
  },
  {
   "cell_type": "code",
   "execution_count": 116,
   "id": "e49da0ed",
   "metadata": {},
   "outputs": [],
   "source": [
    "x = [1,2,3,4,5]\n"
   ]
  },
  {
   "cell_type": "code",
   "execution_count": 117,
   "id": "85f42818",
   "metadata": {},
   "outputs": [
    {
     "name": "stdout",
     "output_type": "stream",
     "text": [
      "CPU times: user 2.22 s, sys: 300 ms, total: 2.52 s\n",
      "Wall time: 2.54 s\n"
     ]
    }
   ],
   "source": [
    "x = range(0, 100_000_000)\n",
    "%time y = [2*i for i in x]"
   ]
  },
  {
   "cell_type": "code",
   "execution_count": 118,
   "id": "0fda8753",
   "metadata": {},
   "outputs": [
    {
     "name": "stdout",
     "output_type": "stream",
     "text": [
      "CPU times: user 611 ms, sys: 598 ms, total: 1.21 s\n",
      "Wall time: 1.24 s\n"
     ]
    }
   ],
   "source": [
    "import numpy as np\n",
    "\n",
    "x = np.arange(100_000_000)\n",
    "%time y = 2*x\n"
   ]
  },
  {
   "cell_type": "markdown",
   "id": "2949c6f5",
   "metadata": {},
   "source": [
    "## Operaciones matemáticas\n",
    "\n",
    "NumPy define un gran número de [funciones matemáticas](https://numpy.org/doc/2.0/reference/routines.math.html) tales como el seno, el coseno, la tangente, la exponencial, etc."
   ]
  },
  {
   "cell_type": "code",
   "execution_count": null,
   "id": "ab61532c",
   "metadata": {},
   "outputs": [
    {
     "data": {
      "text/plain": [
       "array([10.  ,  9.99,  9.98, ...,  9.97,  9.98,  9.99], shape=(2000,))"
      ]
     },
     "execution_count": 150,
     "metadata": {},
     "output_type": "execute_result"
    }
   ],
   "source": [
    "x = np.arange(-10, 10, 0.01)\n",
    "np.sin(x)\n",
    "np.cos(x)\n",
    "np.tan(x)\n",
    "np.exp(x)\n",
    "np.exp2(x) # equivalente a 2**x\n",
    "np.abs(x)"
   ]
  },
  {
   "cell_type": "code",
   "execution_count": 164,
   "id": "2e9b1ace",
   "metadata": {},
   "outputs": [
    {
     "data": {
      "text/plain": [
       "<matplotlib.legend.Legend at 0x1212b2350>"
      ]
     },
     "execution_count": 164,
     "metadata": {},
     "output_type": "execute_result"
    },
    {
     "data": {
      "image/png": "[encoded data removed]",
      "text/plain": [
       "<Figure size 640x480 with 1 Axes>"
      ]
     },
     "metadata": {},
     "output_type": "display_data"
    }
   ],
   "source": [
    "import matplotlib.pyplot as plt\n",
    "\n",
    "x = np.arange(-np.pi, np.pi, 0.01)\n",
    "\n",
    "plt.plot(x, np.sin(x), label=r'$\\sin(x)$')\n",
    "plt.plot(x, np.cos(x), label=r'$\\cos(x)$')\n",
    "plt.plot(x, np.tan(x), label=r'$\\tan(x)$')\n",
    "plt.ylim([-1.5,1.5])\n",
    "plt.grid()\n",
    "plt.title(r\"Graficado de funciones trigonométricas\")\n",
    "plt.legend()"
   ]
  },
  {
   "cell_type": "markdown",
   "id": "44cf198c",
   "metadata": {},
   "source": [
    "## Vectores y matrices\n",
    "\n",
    "Para operaciones de vectores y matrices se recomienda leer la [documentación relativa a álgebra lineal](https://numpy.org/doc/stable/reference/routines.linalg.html) de NumPy. "
   ]
  },
  {
   "cell_type": "code",
   "execution_count": 134,
   "id": "a3e3be0d",
   "metadata": {},
   "outputs": [
    {
     "data": {
      "text/plain": [
       "array([0, 1, 2, 3, 4, 5, 6, 7, 8, 9])"
      ]
     },
     "execution_count": 134,
     "metadata": {},
     "output_type": "execute_result"
    }
   ],
   "source": [
    "np.arange(0,10)"
   ]
  },
  {
   "cell_type": "code",
   "execution_count": 137,
   "id": "f8b7ec2b",
   "metadata": {},
   "outputs": [],
   "source": [
    "x = np.array([1,2])\n",
    "y = np.array([1,1])"
   ]
  },
  {
   "cell_type": "code",
   "execution_count": 140,
   "id": "a3d0a8d4",
   "metadata": {},
   "outputs": [
    {
     "data": {
      "text/plain": [
       "np.int64(3)"
      ]
     },
     "execution_count": 140,
     "metadata": {},
     "output_type": "execute_result"
    }
   ],
   "source": [
    "np.dot(x,y)"
   ]
  },
  {
   "cell_type": "code",
   "execution_count": 141,
   "id": "4602a17d",
   "metadata": {},
   "outputs": [
    {
     "data": {
      "text/plain": [
       "np.float64(2.23606797749979)"
      ]
     },
     "execution_count": 141,
     "metadata": {},
     "output_type": "execute_result"
    }
   ],
   "source": [
    "np.linalg.norm(x)"
   ]
  },
  {
   "cell_type": "code",
   "execution_count": 143,
   "id": "994eff80",
   "metadata": {},
   "outputs": [
    {
     "data": {
      "text/plain": [
       "np.float64(2.23606797749979)"
      ]
     },
     "execution_count": 143,
     "metadata": {},
     "output_type": "execute_result"
    }
   ],
   "source": [
    "np.sqrt(5)"
   ]
  },
  {
   "cell_type": "code",
   "execution_count": 146,
   "id": "3685c6aa",
   "metadata": {},
   "outputs": [
    {
     "data": {
      "text/plain": [
       "array([[-2. ,  1. ],\n",
       "       [ 1.5, -0.5]])"
      ]
     },
     "execution_count": 146,
     "metadata": {},
     "output_type": "execute_result"
    }
   ],
   "source": [
    "a = np.array([[1,2], [3,4]])\n",
    "np.linalg.inv(a)"
   ]
  },
  {
   "cell_type": "code",
   "execution_count": 147,
   "id": "709b844e",
   "metadata": {},
   "outputs": [
    {
     "data": {
      "text/plain": [
       "array([[1069, 1558],\n",
       "       [2337, 3406]])"
      ]
     },
     "execution_count": 147,
     "metadata": {},
     "output_type": "execute_result"
    }
   ],
   "source": [
    "np.linalg.matrix_power(a, 5)"
   ]
  },
  {
   "cell_type": "code",
   "execution_count": 148,
   "id": "5a97d35d",
   "metadata": {},
   "outputs": [
    {
     "data": {
      "text/plain": [
       "array([[   1,   32],\n",
       "       [ 243, 1024]])"
      ]
     },
     "execution_count": 148,
     "metadata": {},
     "output_type": "execute_result"
    }
   ],
   "source": [
    "a**5"
   ]
  },
  {
   "cell_type": "code",
   "execution_count": 149,
   "id": "84c6f845",
   "metadata": {},
   "outputs": [
    {
     "data": {
      "text/plain": [
       "array([[ 0.84147098,  0.90929743],\n",
       "       [ 0.14112001, -0.7568025 ]])"
      ]
     },
     "execution_count": 149,
     "metadata": {},
     "output_type": "execute_result"
    }
   ],
   "source": [
    "np.sin(a)"
   ]
  }
 ],
 "metadata": {
  "kernelspec": {
   "display_name": "ufm-python-for-finance",
   "language": "python",
   "name": "python3"
  },
  "language_info": {
   "codemirror_mode": {
    "name": "ipython",
    "version": 3
   },
   "file_extension": ".py",
   "mimetype": "text/x-python",
   "name": "python",
   "nbconvert_exporter": "python",
   "pygments_lexer": "ipython3",
   "version": "3.13.5"
  }
 },
 "nbformat": 4,
 "nbformat_minor": 5
}
