{
 "cells": [
  {
   "cell_type": "markdown",
   "id": "bd831df4",
   "metadata": {},
   "source": [
    "# Idealista API\n",
    "\n",
    "Access is free to a maximum of 100 req/month and it’s limited by 1 req/sec."
   ]
  },
  {
   "cell_type": "code",
   "execution_count": 4,
   "id": "1cb3c53d",
   "metadata": {},
   "outputs": [],
   "source": [
    "import httpx\n",
    "import base64\n",
    "import os\n",
    "\n",
    "# %% Request auth token\n",
    "message = os.environ.get('IDEALISTA_API_KEY', '') + \":\" + os.environ.get('IDEALISTA_API_SECRET', '')\n",
    "auth = \"Basic \" + base64.b64encode(message.encode(\"ascii\")).decode(\"ascii\")\n",
    "\n",
    "headers_dic = {\"Authorization\": auth,\n",
    "               \"Content-Type\": \"application/x-www-form-urlencoded;charset=UTF-8\"}\n",
    "\n",
    "params_dic = {\"grant_type\": \"client_credentials\",\n",
    "              \"scope\": \"read\"}\n",
    "\n",
    "r = httpx.post(\"https://api.idealista.com/oauth/token\",\n",
    "                  headers=headers_dic,\n",
    "                  params=params_dic)"
   ]
  },
  {
   "cell_type": "code",
   "execution_count": 5,
   "id": "a3a4608c",
   "metadata": {},
   "outputs": [
    {
     "name": "stdout",
     "output_type": "stream",
     "text": [
      "Total pages: 9\n"
     ]
    }
   ],
   "source": [
    "from typing import Final\n",
    "\n",
    "token = r.json()\n",
    "access_token = token['access_token']\n",
    "\n",
    "BASE_URL: Final[str] = \"https://api.idealista.com/3.5/es/search\"\n",
    "headers = {'Authorization': 'Bearer ' + access_token}\n",
    "\n",
    "lat: float = 40.488810\n",
    "lon: float = -3.365879\n",
    "distance: float = 5e3\n",
    "\n",
    "params = {\n",
    "    'center': f'{lat},{lon}',\n",
    "    'country': 'es',\n",
    "    'maxItems': '100',\n",
    "    'numPage': '1',\n",
    "    'distance': distance,\n",
    "    'propertyType': 'homes',\n",
    "    # 'maxPrice': 400e3,\n",
    "    'operation': 'sale',  # rent\n",
    "}\n",
    "\n",
    "response = httpx.post(BASE_URL, headers=headers, params=params)\n",
    "\n",
    "data = response.json()\n",
    "print(f'Total pages: {data['totalPages']}')"
   ]
  },
  {
   "cell_type": "code",
   "execution_count": 6,
   "id": "37bd1a3e",
   "metadata": {},
   "outputs": [
    {
     "name": "stderr",
     "output_type": "stream",
     "text": [
      "  0%|          | 0/8 [00:00<?, ?it/s]\n"
     ]
    },
    {
     "ename": "KeyboardInterrupt",
     "evalue": "",
     "output_type": "error",
     "traceback": [
      "\u001b[31m---------------------------------------------------------------------------\u001b[39m",
      "\u001b[31mKeyboardInterrupt\u001b[39m                         Traceback (most recent call last)",
      "\u001b[36mCell\u001b[39m\u001b[36m \u001b[39m\u001b[32mIn[6]\u001b[39m\u001b[32m, line 8\u001b[39m\n\u001b[32m      6\u001b[39m \u001b[38;5;28;01mfor\u001b[39;00m i \u001b[38;5;129;01min\u001b[39;00m tqdm(\u001b[38;5;28mrange\u001b[39m(\u001b[32m2\u001b[39m, data[\u001b[33m'\u001b[39m\u001b[33mtotalPages\u001b[39m\u001b[33m'\u001b[39m] + \u001b[32m1\u001b[39m)):\n\u001b[32m      7\u001b[39m     params[\u001b[33m'\u001b[39m\u001b[33mnumPage\u001b[39m\u001b[33m'\u001b[39m] = i\n\u001b[32m----> \u001b[39m\u001b[32m8\u001b[39m     response = \u001b[43mhttpx\u001b[49m\u001b[43m.\u001b[49m\u001b[43mpost\u001b[49m\u001b[43m(\u001b[49m\u001b[43mBASE_URL\u001b[49m\u001b[43m,\u001b[49m\u001b[43m \u001b[49m\u001b[43mheaders\u001b[49m\u001b[43m=\u001b[49m\u001b[43mheaders\u001b[49m\u001b[43m,\u001b[49m\u001b[43m \u001b[49m\u001b[43mparams\u001b[49m\u001b[43m=\u001b[49m\u001b[43mparams\u001b[49m\u001b[43m)\u001b[49m\n\u001b[32m     10\u001b[39m     pages.append(response.json())\n",
      "\u001b[36mFile \u001b[39m\u001b[32m~/workspace/ufm-python-for-finance/.venv/lib/python3.13/site-packages/httpx/_api.py:304\u001b[39m, in \u001b[36mpost\u001b[39m\u001b[34m(url, content, data, files, json, params, headers, cookies, auth, proxy, follow_redirects, verify, timeout, trust_env)\u001b[39m\n\u001b[32m    282\u001b[39m \u001b[38;5;28;01mdef\u001b[39;00m\u001b[38;5;250m \u001b[39m\u001b[34mpost\u001b[39m(\n\u001b[32m    283\u001b[39m     url: URL | \u001b[38;5;28mstr\u001b[39m,\n\u001b[32m    284\u001b[39m     *,\n\u001b[32m   (...)\u001b[39m\u001b[32m    297\u001b[39m     trust_env: \u001b[38;5;28mbool\u001b[39m = \u001b[38;5;28;01mTrue\u001b[39;00m,\n\u001b[32m    298\u001b[39m ) -> Response:\n\u001b[32m    299\u001b[39m \u001b[38;5;250m    \u001b[39m\u001b[33;03m\"\"\"\u001b[39;00m\n\u001b[32m    300\u001b[39m \u001b[33;03m    Sends a `POST` request.\u001b[39;00m\n\u001b[32m    301\u001b[39m \n\u001b[32m    302\u001b[39m \u001b[33;03m    **Parameters**: See `httpx.request`.\u001b[39;00m\n\u001b[32m    303\u001b[39m \u001b[33;03m    \"\"\"\u001b[39;00m\n\u001b[32m--> \u001b[39m\u001b[32m304\u001b[39m     \u001b[38;5;28;01mreturn\u001b[39;00m \u001b[43mrequest\u001b[49m\u001b[43m(\u001b[49m\n\u001b[32m    305\u001b[39m \u001b[43m        \u001b[49m\u001b[33;43m\"\u001b[39;49m\u001b[33;43mPOST\u001b[39;49m\u001b[33;43m\"\u001b[39;49m\u001b[43m,\u001b[49m\n\u001b[32m    306\u001b[39m \u001b[43m        \u001b[49m\u001b[43murl\u001b[49m\u001b[43m,\u001b[49m\n\u001b[32m    307\u001b[39m \u001b[43m        \u001b[49m\u001b[43mcontent\u001b[49m\u001b[43m=\u001b[49m\u001b[43mcontent\u001b[49m\u001b[43m,\u001b[49m\n\u001b[32m    308\u001b[39m \u001b[43m        \u001b[49m\u001b[43mdata\u001b[49m\u001b[43m=\u001b[49m\u001b[43mdata\u001b[49m\u001b[43m,\u001b[49m\n\u001b[32m    309\u001b[39m \u001b[43m        \u001b[49m\u001b[43mfiles\u001b[49m\u001b[43m=\u001b[49m\u001b[43mfiles\u001b[49m\u001b[43m,\u001b[49m\n\u001b[32m    310\u001b[39m \u001b[43m        \u001b[49m\u001b[43mjson\u001b[49m\u001b[43m=\u001b[49m\u001b[43mjson\u001b[49m\u001b[43m,\u001b[49m\n\u001b[32m    311\u001b[39m \u001b[43m        \u001b[49m\u001b[43mparams\u001b[49m\u001b[43m=\u001b[49m\u001b[43mparams\u001b[49m\u001b[43m,\u001b[49m\n\u001b[32m    312\u001b[39m \u001b[43m        \u001b[49m\u001b[43mheaders\u001b[49m\u001b[43m=\u001b[49m\u001b[43mheaders\u001b[49m\u001b[43m,\u001b[49m\n\u001b[32m    313\u001b[39m \u001b[43m        \u001b[49m\u001b[43mcookies\u001b[49m\u001b[43m=\u001b[49m\u001b[43mcookies\u001b[49m\u001b[43m,\u001b[49m\n\u001b[32m    314\u001b[39m \u001b[43m        \u001b[49m\u001b[43mauth\u001b[49m\u001b[43m=\u001b[49m\u001b[43mauth\u001b[49m\u001b[43m,\u001b[49m\n\u001b[32m    315\u001b[39m \u001b[43m        \u001b[49m\u001b[43mproxy\u001b[49m\u001b[43m=\u001b[49m\u001b[43mproxy\u001b[49m\u001b[43m,\u001b[49m\n\u001b[32m    316\u001b[39m \u001b[43m        \u001b[49m\u001b[43mfollow_redirects\u001b[49m\u001b[43m=\u001b[49m\u001b[43mfollow_redirects\u001b[49m\u001b[43m,\u001b[49m\n\u001b[32m    317\u001b[39m \u001b[43m        \u001b[49m\u001b[43mverify\u001b[49m\u001b[43m=\u001b[49m\u001b[43mverify\u001b[49m\u001b[43m,\u001b[49m\n\u001b[32m    318\u001b[39m \u001b[43m        \u001b[49m\u001b[43mtimeout\u001b[49m\u001b[43m=\u001b[49m\u001b[43mtimeout\u001b[49m\u001b[43m,\u001b[49m\n\u001b[32m    319\u001b[39m \u001b[43m        \u001b[49m\u001b[43mtrust_env\u001b[49m\u001b[43m=\u001b[49m\u001b[43mtrust_env\u001b[49m\u001b[43m,\u001b[49m\n\u001b[32m    320\u001b[39m \u001b[43m    \u001b[49m\u001b[43m)\u001b[49m\n",
      "\u001b[36mFile \u001b[39m\u001b[32m~/workspace/ufm-python-for-finance/.venv/lib/python3.13/site-packages/httpx/_api.py:109\u001b[39m, in \u001b[36mrequest\u001b[39m\u001b[34m(method, url, params, content, data, files, json, headers, cookies, auth, proxy, timeout, follow_redirects, verify, trust_env)\u001b[39m\n\u001b[32m     57\u001b[39m \u001b[38;5;250m\u001b[39m\u001b[33;03m\"\"\"\u001b[39;00m\n\u001b[32m     58\u001b[39m \u001b[33;03mSends an HTTP request.\u001b[39;00m\n\u001b[32m     59\u001b[39m \n\u001b[32m   (...)\u001b[39m\u001b[32m    100\u001b[39m \u001b[33;03m```\u001b[39;00m\n\u001b[32m    101\u001b[39m \u001b[33;03m\"\"\"\u001b[39;00m\n\u001b[32m    102\u001b[39m \u001b[38;5;28;01mwith\u001b[39;00m Client(\n\u001b[32m    103\u001b[39m     cookies=cookies,\n\u001b[32m    104\u001b[39m     proxy=proxy,\n\u001b[32m   (...)\u001b[39m\u001b[32m    107\u001b[39m     trust_env=trust_env,\n\u001b[32m    108\u001b[39m ) \u001b[38;5;28;01mas\u001b[39;00m client:\n\u001b[32m--> \u001b[39m\u001b[32m109\u001b[39m     \u001b[38;5;28;01mreturn\u001b[39;00m \u001b[43mclient\u001b[49m\u001b[43m.\u001b[49m\u001b[43mrequest\u001b[49m\u001b[43m(\u001b[49m\n\u001b[32m    110\u001b[39m \u001b[43m        \u001b[49m\u001b[43mmethod\u001b[49m\u001b[43m=\u001b[49m\u001b[43mmethod\u001b[49m\u001b[43m,\u001b[49m\n\u001b[32m    111\u001b[39m \u001b[43m        \u001b[49m\u001b[43murl\u001b[49m\u001b[43m=\u001b[49m\u001b[43murl\u001b[49m\u001b[43m,\u001b[49m\n\u001b[32m    112\u001b[39m \u001b[43m        \u001b[49m\u001b[43mcontent\u001b[49m\u001b[43m=\u001b[49m\u001b[43mcontent\u001b[49m\u001b[43m,\u001b[49m\n\u001b[32m    113\u001b[39m \u001b[43m        \u001b[49m\u001b[43mdata\u001b[49m\u001b[43m=\u001b[49m\u001b[43mdata\u001b[49m\u001b[43m,\u001b[49m\n\u001b[32m    114\u001b[39m \u001b[43m        \u001b[49m\u001b[43mfiles\u001b[49m\u001b[43m=\u001b[49m\u001b[43mfiles\u001b[49m\u001b[43m,\u001b[49m\n\u001b[32m    115\u001b[39m \u001b[43m        \u001b[49m\u001b[43mjson\u001b[49m\u001b[43m=\u001b[49m\u001b[43mjson\u001b[49m\u001b[43m,\u001b[49m\n\u001b[32m    116\u001b[39m \u001b[43m        \u001b[49m\u001b[43mparams\u001b[49m\u001b[43m=\u001b[49m\u001b[43mparams\u001b[49m\u001b[43m,\u001b[49m\n\u001b[32m    117\u001b[39m \u001b[43m        \u001b[49m\u001b[43mheaders\u001b[49m\u001b[43m=\u001b[49m\u001b[43mheaders\u001b[49m\u001b[43m,\u001b[49m\n\u001b[32m    118\u001b[39m \u001b[43m        \u001b[49m\u001b[43mauth\u001b[49m\u001b[43m=\u001b[49m\u001b[43mauth\u001b[49m\u001b[43m,\u001b[49m\n\u001b[32m    119\u001b[39m \u001b[43m        \u001b[49m\u001b[43mfollow_redirects\u001b[49m\u001b[43m=\u001b[49m\u001b[43mfollow_redirects\u001b[49m\u001b[43m,\u001b[49m\n\u001b[32m    120\u001b[39m \u001b[43m    \u001b[49m\u001b[43m)\u001b[49m\n",
      "\u001b[36mFile \u001b[39m\u001b[32m~/workspace/ufm-python-for-finance/.venv/lib/python3.13/site-packages/httpx/_client.py:825\u001b[39m, in \u001b[36mClient.request\u001b[39m\u001b[34m(self, method, url, content, data, files, json, params, headers, cookies, auth, follow_redirects, timeout, extensions)\u001b[39m\n\u001b[32m    810\u001b[39m     warnings.warn(message, \u001b[38;5;167;01mDeprecationWarning\u001b[39;00m, stacklevel=\u001b[32m2\u001b[39m)\n\u001b[32m    812\u001b[39m request = \u001b[38;5;28mself\u001b[39m.build_request(\n\u001b[32m    813\u001b[39m     method=method,\n\u001b[32m    814\u001b[39m     url=url,\n\u001b[32m   (...)\u001b[39m\u001b[32m    823\u001b[39m     extensions=extensions,\n\u001b[32m    824\u001b[39m )\n\u001b[32m--> \u001b[39m\u001b[32m825\u001b[39m \u001b[38;5;28;01mreturn\u001b[39;00m \u001b[38;5;28;43mself\u001b[39;49m\u001b[43m.\u001b[49m\u001b[43msend\u001b[49m\u001b[43m(\u001b[49m\u001b[43mrequest\u001b[49m\u001b[43m,\u001b[49m\u001b[43m \u001b[49m\u001b[43mauth\u001b[49m\u001b[43m=\u001b[49m\u001b[43mauth\u001b[49m\u001b[43m,\u001b[49m\u001b[43m \u001b[49m\u001b[43mfollow_redirects\u001b[49m\u001b[43m=\u001b[49m\u001b[43mfollow_redirects\u001b[49m\u001b[43m)\u001b[49m\n",
      "\u001b[36mFile \u001b[39m\u001b[32m~/workspace/ufm-python-for-finance/.venv/lib/python3.13/site-packages/httpx/_client.py:914\u001b[39m, in \u001b[36mClient.send\u001b[39m\u001b[34m(self, request, stream, auth, follow_redirects)\u001b[39m\n\u001b[32m    910\u001b[39m \u001b[38;5;28mself\u001b[39m._set_timeout(request)\n\u001b[32m    912\u001b[39m auth = \u001b[38;5;28mself\u001b[39m._build_request_auth(request, auth)\n\u001b[32m--> \u001b[39m\u001b[32m914\u001b[39m response = \u001b[38;5;28;43mself\u001b[39;49m\u001b[43m.\u001b[49m\u001b[43m_send_handling_auth\u001b[49m\u001b[43m(\u001b[49m\n\u001b[32m    915\u001b[39m \u001b[43m    \u001b[49m\u001b[43mrequest\u001b[49m\u001b[43m,\u001b[49m\n\u001b[32m    916\u001b[39m \u001b[43m    \u001b[49m\u001b[43mauth\u001b[49m\u001b[43m=\u001b[49m\u001b[43mauth\u001b[49m\u001b[43m,\u001b[49m\n\u001b[32m    917\u001b[39m \u001b[43m    \u001b[49m\u001b[43mfollow_redirects\u001b[49m\u001b[43m=\u001b[49m\u001b[43mfollow_redirects\u001b[49m\u001b[43m,\u001b[49m\n\u001b[32m    918\u001b[39m \u001b[43m    \u001b[49m\u001b[43mhistory\u001b[49m\u001b[43m=\u001b[49m\u001b[43m[\u001b[49m\u001b[43m]\u001b[49m\u001b[43m,\u001b[49m\n\u001b[32m    919\u001b[39m \u001b[43m\u001b[49m\u001b[43m)\u001b[49m\n\u001b[32m    920\u001b[39m \u001b[38;5;28;01mtry\u001b[39;00m:\n\u001b[32m    921\u001b[39m     \u001b[38;5;28;01mif\u001b[39;00m \u001b[38;5;129;01mnot\u001b[39;00m stream:\n",
      "\u001b[36mFile \u001b[39m\u001b[32m~/workspace/ufm-python-for-finance/.venv/lib/python3.13/site-packages/httpx/_client.py:942\u001b[39m, in \u001b[36mClient._send_handling_auth\u001b[39m\u001b[34m(self, request, auth, follow_redirects, history)\u001b[39m\n\u001b[32m    939\u001b[39m request = \u001b[38;5;28mnext\u001b[39m(auth_flow)\n\u001b[32m    941\u001b[39m \u001b[38;5;28;01mwhile\u001b[39;00m \u001b[38;5;28;01mTrue\u001b[39;00m:\n\u001b[32m--> \u001b[39m\u001b[32m942\u001b[39m     response = \u001b[38;5;28;43mself\u001b[39;49m\u001b[43m.\u001b[49m\u001b[43m_send_handling_redirects\u001b[49m\u001b[43m(\u001b[49m\n\u001b[32m    943\u001b[39m \u001b[43m        \u001b[49m\u001b[43mrequest\u001b[49m\u001b[43m,\u001b[49m\n\u001b[32m    944\u001b[39m \u001b[43m        \u001b[49m\u001b[43mfollow_redirects\u001b[49m\u001b[43m=\u001b[49m\u001b[43mfollow_redirects\u001b[49m\u001b[43m,\u001b[49m\n\u001b[32m    945\u001b[39m \u001b[43m        \u001b[49m\u001b[43mhistory\u001b[49m\u001b[43m=\u001b[49m\u001b[43mhistory\u001b[49m\u001b[43m,\u001b[49m\n\u001b[32m    946\u001b[39m \u001b[43m    \u001b[49m\u001b[43m)\u001b[49m\n\u001b[32m    947\u001b[39m     \u001b[38;5;28;01mtry\u001b[39;00m:\n\u001b[32m    948\u001b[39m         \u001b[38;5;28;01mtry\u001b[39;00m:\n",
      "\u001b[36mFile \u001b[39m\u001b[32m~/workspace/ufm-python-for-finance/.venv/lib/python3.13/site-packages/httpx/_client.py:979\u001b[39m, in \u001b[36mClient._send_handling_redirects\u001b[39m\u001b[34m(self, request, follow_redirects, history)\u001b[39m\n\u001b[32m    976\u001b[39m \u001b[38;5;28;01mfor\u001b[39;00m hook \u001b[38;5;129;01min\u001b[39;00m \u001b[38;5;28mself\u001b[39m._event_hooks[\u001b[33m\"\u001b[39m\u001b[33mrequest\u001b[39m\u001b[33m\"\u001b[39m]:\n\u001b[32m    977\u001b[39m     hook(request)\n\u001b[32m--> \u001b[39m\u001b[32m979\u001b[39m response = \u001b[38;5;28;43mself\u001b[39;49m\u001b[43m.\u001b[49m\u001b[43m_send_single_request\u001b[49m\u001b[43m(\u001b[49m\u001b[43mrequest\u001b[49m\u001b[43m)\u001b[49m\n\u001b[32m    980\u001b[39m \u001b[38;5;28;01mtry\u001b[39;00m:\n\u001b[32m    981\u001b[39m     \u001b[38;5;28;01mfor\u001b[39;00m hook \u001b[38;5;129;01min\u001b[39;00m \u001b[38;5;28mself\u001b[39m._event_hooks[\u001b[33m\"\u001b[39m\u001b[33mresponse\u001b[39m\u001b[33m\"\u001b[39m]:\n",
      "\u001b[36mFile \u001b[39m\u001b[32m~/workspace/ufm-python-for-finance/.venv/lib/python3.13/site-packages/httpx/_client.py:1014\u001b[39m, in \u001b[36mClient._send_single_request\u001b[39m\u001b[34m(self, request)\u001b[39m\n\u001b[32m   1009\u001b[39m     \u001b[38;5;28;01mraise\u001b[39;00m \u001b[38;5;167;01mRuntimeError\u001b[39;00m(\n\u001b[32m   1010\u001b[39m         \u001b[33m\"\u001b[39m\u001b[33mAttempted to send an async request with a sync Client instance.\u001b[39m\u001b[33m\"\u001b[39m\n\u001b[32m   1011\u001b[39m     )\n\u001b[32m   1013\u001b[39m \u001b[38;5;28;01mwith\u001b[39;00m request_context(request=request):\n\u001b[32m-> \u001b[39m\u001b[32m1014\u001b[39m     response = \u001b[43mtransport\u001b[49m\u001b[43m.\u001b[49m\u001b[43mhandle_request\u001b[49m\u001b[43m(\u001b[49m\u001b[43mrequest\u001b[49m\u001b[43m)\u001b[49m\n\u001b[32m   1016\u001b[39m \u001b[38;5;28;01massert\u001b[39;00m \u001b[38;5;28misinstance\u001b[39m(response.stream, SyncByteStream)\n\u001b[32m   1018\u001b[39m response.request = request\n",
      "\u001b[36mFile \u001b[39m\u001b[32m~/workspace/ufm-python-for-finance/.venv/lib/python3.13/site-packages/httpx/_transports/default.py:250\u001b[39m, in \u001b[36mHTTPTransport.handle_request\u001b[39m\u001b[34m(self, request)\u001b[39m\n\u001b[32m    237\u001b[39m req = httpcore.Request(\n\u001b[32m    238\u001b[39m     method=request.method,\n\u001b[32m    239\u001b[39m     url=httpcore.URL(\n\u001b[32m   (...)\u001b[39m\u001b[32m    247\u001b[39m     extensions=request.extensions,\n\u001b[32m    248\u001b[39m )\n\u001b[32m    249\u001b[39m \u001b[38;5;28;01mwith\u001b[39;00m map_httpcore_exceptions():\n\u001b[32m--> \u001b[39m\u001b[32m250\u001b[39m     resp = \u001b[38;5;28;43mself\u001b[39;49m\u001b[43m.\u001b[49m\u001b[43m_pool\u001b[49m\u001b[43m.\u001b[49m\u001b[43mhandle_request\u001b[49m\u001b[43m(\u001b[49m\u001b[43mreq\u001b[49m\u001b[43m)\u001b[49m\n\u001b[32m    252\u001b[39m \u001b[38;5;28;01massert\u001b[39;00m \u001b[38;5;28misinstance\u001b[39m(resp.stream, typing.Iterable)\n\u001b[32m    254\u001b[39m \u001b[38;5;28;01mreturn\u001b[39;00m Response(\n\u001b[32m    255\u001b[39m     status_code=resp.status,\n\u001b[32m    256\u001b[39m     headers=resp.headers,\n\u001b[32m    257\u001b[39m     stream=ResponseStream(resp.stream),\n\u001b[32m    258\u001b[39m     extensions=resp.extensions,\n\u001b[32m    259\u001b[39m )\n",
      "\u001b[36mFile \u001b[39m\u001b[32m~/workspace/ufm-python-for-finance/.venv/lib/python3.13/site-packages/httpcore/_sync/connection_pool.py:256\u001b[39m, in \u001b[36mConnectionPool.handle_request\u001b[39m\u001b[34m(self, request)\u001b[39m\n\u001b[32m    253\u001b[39m         closing = \u001b[38;5;28mself\u001b[39m._assign_requests_to_connections()\n\u001b[32m    255\u001b[39m     \u001b[38;5;28mself\u001b[39m._close_connections(closing)\n\u001b[32m--> \u001b[39m\u001b[32m256\u001b[39m     \u001b[38;5;28;01mraise\u001b[39;00m exc \u001b[38;5;28;01mfrom\u001b[39;00m\u001b[38;5;250m \u001b[39m\u001b[38;5;28;01mNone\u001b[39;00m\n\u001b[32m    258\u001b[39m \u001b[38;5;66;03m# Return the response. Note that in this case we still have to manage\u001b[39;00m\n\u001b[32m    259\u001b[39m \u001b[38;5;66;03m# the point at which the response is closed.\u001b[39;00m\n\u001b[32m    260\u001b[39m \u001b[38;5;28;01massert\u001b[39;00m \u001b[38;5;28misinstance\u001b[39m(response.stream, typing.Iterable)\n",
      "\u001b[36mFile \u001b[39m\u001b[32m~/workspace/ufm-python-for-finance/.venv/lib/python3.13/site-packages/httpcore/_sync/connection_pool.py:236\u001b[39m, in \u001b[36mConnectionPool.handle_request\u001b[39m\u001b[34m(self, request)\u001b[39m\n\u001b[32m    232\u001b[39m connection = pool_request.wait_for_connection(timeout=timeout)\n\u001b[32m    234\u001b[39m \u001b[38;5;28;01mtry\u001b[39;00m:\n\u001b[32m    235\u001b[39m     \u001b[38;5;66;03m# Send the request on the assigned connection.\u001b[39;00m\n\u001b[32m--> \u001b[39m\u001b[32m236\u001b[39m     response = \u001b[43mconnection\u001b[49m\u001b[43m.\u001b[49m\u001b[43mhandle_request\u001b[49m\u001b[43m(\u001b[49m\n\u001b[32m    237\u001b[39m \u001b[43m        \u001b[49m\u001b[43mpool_request\u001b[49m\u001b[43m.\u001b[49m\u001b[43mrequest\u001b[49m\n\u001b[32m    238\u001b[39m \u001b[43m    \u001b[49m\u001b[43m)\u001b[49m\n\u001b[32m    239\u001b[39m \u001b[38;5;28;01mexcept\u001b[39;00m ConnectionNotAvailable:\n\u001b[32m    240\u001b[39m     \u001b[38;5;66;03m# In some cases a connection may initially be available to\u001b[39;00m\n\u001b[32m    241\u001b[39m     \u001b[38;5;66;03m# handle a request, but then become unavailable.\u001b[39;00m\n\u001b[32m    242\u001b[39m     \u001b[38;5;66;03m#\u001b[39;00m\n\u001b[32m    243\u001b[39m     \u001b[38;5;66;03m# In this case we clear the connection and try again.\u001b[39;00m\n\u001b[32m    244\u001b[39m     pool_request.clear_connection()\n",
      "\u001b[36mFile \u001b[39m\u001b[32m~/workspace/ufm-python-for-finance/.venv/lib/python3.13/site-packages/httpcore/_sync/connection.py:103\u001b[39m, in \u001b[36mHTTPConnection.handle_request\u001b[39m\u001b[34m(self, request)\u001b[39m\n\u001b[32m    100\u001b[39m     \u001b[38;5;28mself\u001b[39m._connect_failed = \u001b[38;5;28;01mTrue\u001b[39;00m\n\u001b[32m    101\u001b[39m     \u001b[38;5;28;01mraise\u001b[39;00m exc\n\u001b[32m--> \u001b[39m\u001b[32m103\u001b[39m \u001b[38;5;28;01mreturn\u001b[39;00m \u001b[38;5;28;43mself\u001b[39;49m\u001b[43m.\u001b[49m\u001b[43m_connection\u001b[49m\u001b[43m.\u001b[49m\u001b[43mhandle_request\u001b[49m\u001b[43m(\u001b[49m\u001b[43mrequest\u001b[49m\u001b[43m)\u001b[49m\n",
      "\u001b[36mFile \u001b[39m\u001b[32m~/workspace/ufm-python-for-finance/.venv/lib/python3.13/site-packages/httpcore/_sync/http11.py:136\u001b[39m, in \u001b[36mHTTP11Connection.handle_request\u001b[39m\u001b[34m(self, request)\u001b[39m\n\u001b[32m    134\u001b[39m     \u001b[38;5;28;01mwith\u001b[39;00m Trace(\u001b[33m\"\u001b[39m\u001b[33mresponse_closed\u001b[39m\u001b[33m\"\u001b[39m, logger, request) \u001b[38;5;28;01mas\u001b[39;00m trace:\n\u001b[32m    135\u001b[39m         \u001b[38;5;28mself\u001b[39m._response_closed()\n\u001b[32m--> \u001b[39m\u001b[32m136\u001b[39m \u001b[38;5;28;01mraise\u001b[39;00m exc\n",
      "\u001b[36mFile \u001b[39m\u001b[32m~/workspace/ufm-python-for-finance/.venv/lib/python3.13/site-packages/httpcore/_sync/http11.py:106\u001b[39m, in \u001b[36mHTTP11Connection.handle_request\u001b[39m\u001b[34m(self, request)\u001b[39m\n\u001b[32m     95\u001b[39m     \u001b[38;5;28;01mpass\u001b[39;00m\n\u001b[32m     97\u001b[39m \u001b[38;5;28;01mwith\u001b[39;00m Trace(\n\u001b[32m     98\u001b[39m     \u001b[33m\"\u001b[39m\u001b[33mreceive_response_headers\u001b[39m\u001b[33m\"\u001b[39m, logger, request, kwargs\n\u001b[32m     99\u001b[39m ) \u001b[38;5;28;01mas\u001b[39;00m trace:\n\u001b[32m    100\u001b[39m     (\n\u001b[32m    101\u001b[39m         http_version,\n\u001b[32m    102\u001b[39m         status,\n\u001b[32m    103\u001b[39m         reason_phrase,\n\u001b[32m    104\u001b[39m         headers,\n\u001b[32m    105\u001b[39m         trailing_data,\n\u001b[32m--> \u001b[39m\u001b[32m106\u001b[39m     ) = \u001b[38;5;28;43mself\u001b[39;49m\u001b[43m.\u001b[49m\u001b[43m_receive_response_headers\u001b[49m\u001b[43m(\u001b[49m\u001b[43m*\u001b[49m\u001b[43m*\u001b[49m\u001b[43mkwargs\u001b[49m\u001b[43m)\u001b[49m\n\u001b[32m    107\u001b[39m     trace.return_value = (\n\u001b[32m    108\u001b[39m         http_version,\n\u001b[32m    109\u001b[39m         status,\n\u001b[32m    110\u001b[39m         reason_phrase,\n\u001b[32m    111\u001b[39m         headers,\n\u001b[32m    112\u001b[39m     )\n\u001b[32m    114\u001b[39m network_stream = \u001b[38;5;28mself\u001b[39m._network_stream\n",
      "\u001b[36mFile \u001b[39m\u001b[32m~/workspace/ufm-python-for-finance/.venv/lib/python3.13/site-packages/httpcore/_sync/http11.py:177\u001b[39m, in \u001b[36mHTTP11Connection._receive_response_headers\u001b[39m\u001b[34m(self, request)\u001b[39m\n\u001b[32m    174\u001b[39m timeout = timeouts.get(\u001b[33m\"\u001b[39m\u001b[33mread\u001b[39m\u001b[33m\"\u001b[39m, \u001b[38;5;28;01mNone\u001b[39;00m)\n\u001b[32m    176\u001b[39m \u001b[38;5;28;01mwhile\u001b[39;00m \u001b[38;5;28;01mTrue\u001b[39;00m:\n\u001b[32m--> \u001b[39m\u001b[32m177\u001b[39m     event = \u001b[38;5;28;43mself\u001b[39;49m\u001b[43m.\u001b[49m\u001b[43m_receive_event\u001b[49m\u001b[43m(\u001b[49m\u001b[43mtimeout\u001b[49m\u001b[43m=\u001b[49m\u001b[43mtimeout\u001b[49m\u001b[43m)\u001b[49m\n\u001b[32m    178\u001b[39m     \u001b[38;5;28;01mif\u001b[39;00m \u001b[38;5;28misinstance\u001b[39m(event, h11.Response):\n\u001b[32m    179\u001b[39m         \u001b[38;5;28;01mbreak\u001b[39;00m\n",
      "\u001b[36mFile \u001b[39m\u001b[32m~/workspace/ufm-python-for-finance/.venv/lib/python3.13/site-packages/httpcore/_sync/http11.py:217\u001b[39m, in \u001b[36mHTTP11Connection._receive_event\u001b[39m\u001b[34m(self, timeout)\u001b[39m\n\u001b[32m    214\u001b[39m     event = \u001b[38;5;28mself\u001b[39m._h11_state.next_event()\n\u001b[32m    216\u001b[39m \u001b[38;5;28;01mif\u001b[39;00m event \u001b[38;5;129;01mis\u001b[39;00m h11.NEED_DATA:\n\u001b[32m--> \u001b[39m\u001b[32m217\u001b[39m     data = \u001b[38;5;28;43mself\u001b[39;49m\u001b[43m.\u001b[49m\u001b[43m_network_stream\u001b[49m\u001b[43m.\u001b[49m\u001b[43mread\u001b[49m\u001b[43m(\u001b[49m\n\u001b[32m    218\u001b[39m \u001b[43m        \u001b[49m\u001b[38;5;28;43mself\u001b[39;49m\u001b[43m.\u001b[49m\u001b[43mREAD_NUM_BYTES\u001b[49m\u001b[43m,\u001b[49m\u001b[43m \u001b[49m\u001b[43mtimeout\u001b[49m\u001b[43m=\u001b[49m\u001b[43mtimeout\u001b[49m\n\u001b[32m    219\u001b[39m \u001b[43m    \u001b[49m\u001b[43m)\u001b[49m\n\u001b[32m    221\u001b[39m     \u001b[38;5;66;03m# If we feed this case through h11 we'll raise an exception like:\u001b[39;00m\n\u001b[32m    222\u001b[39m     \u001b[38;5;66;03m#\u001b[39;00m\n\u001b[32m    223\u001b[39m     \u001b[38;5;66;03m#     httpcore.RemoteProtocolError: can't handle event type\u001b[39;00m\n\u001b[32m   (...)\u001b[39m\u001b[32m    227\u001b[39m     \u001b[38;5;66;03m# perspective. Instead we handle this case distinctly and treat\u001b[39;00m\n\u001b[32m    228\u001b[39m     \u001b[38;5;66;03m# it as a ConnectError.\u001b[39;00m\n\u001b[32m    229\u001b[39m     \u001b[38;5;28;01mif\u001b[39;00m data == \u001b[33mb\u001b[39m\u001b[33m\"\u001b[39m\u001b[33m\"\u001b[39m \u001b[38;5;129;01mand\u001b[39;00m \u001b[38;5;28mself\u001b[39m._h11_state.their_state == h11.SEND_RESPONSE:\n",
      "\u001b[36mFile \u001b[39m\u001b[32m~/workspace/ufm-python-for-finance/.venv/lib/python3.13/site-packages/httpcore/_backends/sync.py:128\u001b[39m, in \u001b[36mSyncStream.read\u001b[39m\u001b[34m(self, max_bytes, timeout)\u001b[39m\n\u001b[32m    126\u001b[39m \u001b[38;5;28;01mwith\u001b[39;00m map_exceptions(exc_map):\n\u001b[32m    127\u001b[39m     \u001b[38;5;28mself\u001b[39m._sock.settimeout(timeout)\n\u001b[32m--> \u001b[39m\u001b[32m128\u001b[39m     \u001b[38;5;28;01mreturn\u001b[39;00m \u001b[38;5;28;43mself\u001b[39;49m\u001b[43m.\u001b[49m\u001b[43m_sock\u001b[49m\u001b[43m.\u001b[49m\u001b[43mrecv\u001b[49m\u001b[43m(\u001b[49m\u001b[43mmax_bytes\u001b[49m\u001b[43m)\u001b[49m\n",
      "\u001b[36mFile \u001b[39m\u001b[32m~/.local/share/uv/python/cpython-3.13.5-macos-aarch64-none/lib/python3.13/ssl.py:1285\u001b[39m, in \u001b[36mSSLSocket.recv\u001b[39m\u001b[34m(self, buflen, flags)\u001b[39m\n\u001b[32m   1281\u001b[39m     \u001b[38;5;28;01mif\u001b[39;00m flags != \u001b[32m0\u001b[39m:\n\u001b[32m   1282\u001b[39m         \u001b[38;5;28;01mraise\u001b[39;00m \u001b[38;5;167;01mValueError\u001b[39;00m(\n\u001b[32m   1283\u001b[39m             \u001b[33m\"\u001b[39m\u001b[33mnon-zero flags not allowed in calls to recv() on \u001b[39m\u001b[38;5;132;01m%s\u001b[39;00m\u001b[33m\"\u001b[39m %\n\u001b[32m   1284\u001b[39m             \u001b[38;5;28mself\u001b[39m.\u001b[34m__class__\u001b[39m)\n\u001b[32m-> \u001b[39m\u001b[32m1285\u001b[39m     \u001b[38;5;28;01mreturn\u001b[39;00m \u001b[38;5;28;43mself\u001b[39;49m\u001b[43m.\u001b[49m\u001b[43mread\u001b[49m\u001b[43m(\u001b[49m\u001b[43mbuflen\u001b[49m\u001b[43m)\u001b[49m\n\u001b[32m   1286\u001b[39m \u001b[38;5;28;01melse\u001b[39;00m:\n\u001b[32m   1287\u001b[39m     \u001b[38;5;28;01mreturn\u001b[39;00m \u001b[38;5;28msuper\u001b[39m().recv(buflen, flags)\n",
      "\u001b[36mFile \u001b[39m\u001b[32m~/.local/share/uv/python/cpython-3.13.5-macos-aarch64-none/lib/python3.13/ssl.py:1140\u001b[39m, in \u001b[36mSSLSocket.read\u001b[39m\u001b[34m(self, len, buffer)\u001b[39m\n\u001b[32m   1138\u001b[39m         \u001b[38;5;28;01mreturn\u001b[39;00m \u001b[38;5;28mself\u001b[39m._sslobj.read(\u001b[38;5;28mlen\u001b[39m, buffer)\n\u001b[32m   1139\u001b[39m     \u001b[38;5;28;01melse\u001b[39;00m:\n\u001b[32m-> \u001b[39m\u001b[32m1140\u001b[39m         \u001b[38;5;28;01mreturn\u001b[39;00m \u001b[38;5;28;43mself\u001b[39;49m\u001b[43m.\u001b[49m\u001b[43m_sslobj\u001b[49m\u001b[43m.\u001b[49m\u001b[43mread\u001b[49m\u001b[43m(\u001b[49m\u001b[38;5;28;43mlen\u001b[39;49m\u001b[43m)\u001b[49m\n\u001b[32m   1141\u001b[39m \u001b[38;5;28;01mexcept\u001b[39;00m SSLError \u001b[38;5;28;01mas\u001b[39;00m x:\n\u001b[32m   1142\u001b[39m     \u001b[38;5;28;01mif\u001b[39;00m x.args[\u001b[32m0\u001b[39m] == SSL_ERROR_EOF \u001b[38;5;129;01mand\u001b[39;00m \u001b[38;5;28mself\u001b[39m.suppress_ragged_eofs:\n",
      "\u001b[31mKeyboardInterrupt\u001b[39m: "
     ]
    }
   ],
   "source": [
    "from tqdm import tqdm\n",
    "\n",
    "pages = [data]\n",
    "\n",
    "if data['totalPages'] > 1:\n",
    "    for i in tqdm(range(2, data['totalPages'] + 1)):\n",
    "        params['numPage'] = i\n",
    "        response = httpx.post(BASE_URL, headers=headers, params=params)\n",
    "\n",
    "        pages.append(response.json())"
   ]
  },
  {
   "cell_type": "code",
   "execution_count": null,
   "id": "4c9ffb02",
   "metadata": {},
   "outputs": [],
   "source": [
    "import json\n",
    "\n",
    "with open('data/alcala.json', 'w') as f:\n",
    "    json.dump([el for item in pages for el in item[\"elementList\"]], f)"
   ]
  },
  {
   "cell_type": "markdown",
   "id": "3381c529",
   "metadata": {},
   "source": [
    "## Exploratory Data Analysis"
   ]
  },
  {
   "cell_type": "code",
   "execution_count": 7,
   "id": "99a70b46",
   "metadata": {},
   "outputs": [],
   "source": [
    "import pandas as pd\n",
    "\n",
    "df = pd.read_json('data/alcala.json')"
   ]
  },
  {
   "cell_type": "code",
   "execution_count": 8,
   "id": "2be9113c",
   "metadata": {},
   "outputs": [
    {
     "data": {
      "text/plain": [
       "(0.0, 7162080.0)"
      ]
     },
     "execution_count": 8,
     "metadata": {},
     "output_type": "execute_result"
    },
    {
     "data": {
      "image/png": "[encoded data removed]",
      "text/plain": [
       "<Figure size 640x480 with 1 Axes>"
      ]
     },
     "metadata": {},
     "output_type": "display_data"
    }
   ],
   "source": [
    "import matplotlib.pyplot as plt\n",
    "\n",
    "fig, ax = plt.subplots()\n",
    "df['price'].plot.density(ax=ax, color='g')\n",
    "df['price'].hist(ax=ax, bins=100, density=True, color='g', alpha=.4)\n",
    "ax.set_xlim(left=0)"
   ]
  },
  {
   "cell_type": "code",
   "execution_count": 9,
   "id": "fa39bd0d",
   "metadata": {},
   "outputs": [
    {
     "data": {
      "text/plain": [
       "<Axes: >"
      ]
     },
     "execution_count": 9,
     "metadata": {},
     "output_type": "execute_result"
    },
    {
     "data": {
      "image/png": "[encoded data removed]",
      "text/plain": [
       "<Figure size 640x480 with 1 Axes>"
      ]
     },
     "metadata": {},
     "output_type": "display_data"
    }
   ],
   "source": [
    "df['price'].plot.box(vert=False, grid=True)"
   ]
  },
  {
   "cell_type": "code",
   "execution_count": 10,
   "id": "8bdf2079",
   "metadata": {},
   "outputs": [
    {
     "name": "stdout",
     "output_type": "stream",
     "text": [
      "El primer cuartil es: 190000.00\n",
      "La mediana es: 272450.00\n",
      "El tercer cuartil es: 441335.00\n",
      "La media es: 352391.21\n",
      "La desv. est. es: 327334.11\n"
     ]
    }
   ],
   "source": [
    "print(f\"El primer cuartil es: {df['price'].quantile(.25):.2f}\")\n",
    "print(f\"La mediana es: {df['price'].median():.2f}\")\n",
    "print(f\"El tercer cuartil es: {df['price'].quantile(.75):.2f}\")\n",
    "print(f\"La media es: {df['price'].mean():.2f}\")\n",
    "print(f\"La desv. est. es: {df['price'].std():.2f}\")"
   ]
  },
  {
   "cell_type": "code",
   "execution_count": 11,
   "id": "1ae58b43",
   "metadata": {},
   "outputs": [
    {
     "data": {
      "text/plain": [
       "<Axes: xlabel='size', ylabel='price'>"
      ]
     },
     "execution_count": 11,
     "metadata": {},
     "output_type": "execute_result"
    },
    {
     "data": {
      "image/png": "[encoded data removed]",
      "text/plain": [
       "<Figure size 640x480 with 1 Axes>"
      ]
     },
     "metadata": {},
     "output_type": "display_data"
    }
   ],
   "source": [
    "df.plot.scatter(x='size', y='price', grid=True, xlim=[0, 750], ylim=[0, 1e6])"
   ]
  },
  {
   "cell_type": "code",
   "execution_count": 21,
   "id": "a9f518f6",
   "metadata": {},
   "outputs": [
    {
     "data": {
      "application/vnd.plotly.v1+json": {
       "config": {
        "plotlyServerURL": "https://plot.ly"
       },
       "data": [
        {
         "hovertemplate": "size=%{marker.size}<br>latitude=%{lat}<br>longitude=%{lon}<br>price=%{marker.color}<extra></extra>",
         "lat": {
          "bdata": "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",
          "dtype": "f8"
         },
         "legendgroup": "",
         "lon": {
          "bdata": "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",
          "dtype": "f8"
         },
         "marker": {
          "color": {
           "bdata": "jKcDANDdBgCAqQMANKsCAJilAwAMggMAfJMEAGQgAwCYqwIAKAsEAGihBQC04wMACDoEABOkBQCcUgcAqNICAHjOBAA4uwIA6OUEAOhuAwBYgAQA+JUDAFMIBAAFCwQAEwwEANhNAgAsQAIAjEkCAFiMAgDYuAUAoHoDAFA0AwAIvQMAes8BADDmAgCsCAUA2MQDABCABgDobgMA0N0GAPiPBABYCQMAzFYFALygBwAwaQIASOICAJirAgAoYwYAAFkGAAQXAwCbbgUAYFsDANBsBAAoYwYAyJEFAD6CAwAw5gIAKHYHACC/AgDA1AEAUDQDADDaBACo0gIA3AwDANB4AgA4PgIAqNICAEweBAC8vgIAIK0FAOh0AgBYdAYAqNICAMggAwBoMAMAyCADAHDzBQAYZwMAoGgGAFh6BQD/4QQA4I0FAEhTBQA85AIAoPcDAOCTBABwCwIAaBgHAIhmBwBcjQIA8CsHAHgMAwBYqgIAUDQDADz3AwAgxQEAiIQCAPBJAgDo9wEARIsDAADiBADebgMAiGYHAJBBBgBYCQMAgCwDAIAsAwD4AAcAiGYHAADiBADYuAUAOKMGAOAEBwCIbAYAiGwGALkbBAA8vAYAaHgEAJDWBACXFQUAluEFAPtJBQAnRwQAY9oEACcNBACk1wQAKLsGAJBBBgBw8wUAxN8GANBgBgCwjwYAFD8HAHg/BwCE2QYAbN0GAMDUAQAY2AUA8D0EAKwOBACIZgcAOCwFANwMAwDIDgYAeMgFANDjBQCAIAUA6N8FAIhmBwBoJAUAAF8FANQGBwC0VAYAmJkFAIjpBgB0RwMAaDADABhVBgCgegMAaDADAKB6AwD07wIAUJkHAFClBQBw8wUAuGoFAGDMBQA89wMAmI0HADgyBABwBQMAOKMGALTKAwA85AIA7KQFAHNuBQCQQQYA6G4DAIhmBwAY6gIAkE0EACCtBQCslwIAWAkDAGgwAwAw5gIAiIQCAJgoAwCslwIAvDsDACC/AgCo2AEAkNYCAICpAwBopwQAmKsCAKBuBQAUPgMAVPkCAKBuBQD4jwQAqMwDAFjxBgA4nQcA2EcDADDaBAAY8AEA8LoEAAi9AwB4VwMAiIQCAEjoAQBoMAMAuPkCAPxaAwCozAMAeF0CAIRoBABgWwMAaKcEAPiVAwB8kwQAMv0CAHhdAgDAUQIA8EMDAABxAgBsbAQAEBUDAECQAgA4wQEAdLECAHwEBwBgWwMAKHwGAGgwAwCkqQIAiH4DAGinBADcDAMASDMCAGSjAgBopwQAzqoBAPQ6AwAsQAIA2NABAFA0AwDYsgYACL0DAOj4BQD4BgYAaKEFABAJBQAQjAQADIIDAIzAAwAIQAMAyIsGABhVBgBopwQAYFUEAITfBQBQNAMAYE8FALTpAgBwggMA6G4DAICpAwBYhgMAaDADAFCxAwDAtgYAYFsDAMzlAgBQNAMAGG0CAMC2BgDo2QYAqNICAPZwAgBoMAMAuGoFALhqBQAITAEA6NkGAAgoBwCg9wMALNADAJDQAwBopwQAeGMBAOD2AAA4uwIAoGgGAAjJAQBQpAEAwNQBALxHAQCo0gIAEJgCAOwzAwDodAIAkFkCAOQyBwBoMAMAyCADAOh0AgBQsQMAwNQBANBsBAAgQgIA6HQCAMggAwAY8AEAgCwDAOj3AQB8kwQAaLMCAJirAgAA4gQA2EcDAIAaBgDwKwcA0GwEAAi9AwD4jwQAeOABAPibAgC4+QIA9nACAFiMAgDG+wEAMOYCAGinBAAQmAIAKJQCACC/AgC8RwEAzEMEAMDUAQAsQAIACMkBAAhAAwAIQAMAEJgCADDmAgAw5gIA0C0CAMDUAQC8RwEAeGMBAHrPAQB4YwEA9PsAAMTfBgAQmAIAKHUDAKD9AgDYTQIAWIwCAPBJAgDobgMAeGMBAGg8AQB6zwEAsCoCABzxAQA=",
           "dtype": "i4"
          },
          "coloraxis": "coloraxis",
          "size": {
           "bdata": "QwCMAEAAPABTAGAAUABIAEwAVwBfAGEAVABpAGYAWABKAEwAbgBCAGQAWgA2ADYANgBRAF0ASAA/AI8ANwA2AD8AUwBHAGAAXADGADAAkgB9AEMAcADgAE4ASgBDANsAZwFEAKUASwBQANsAdwA/AFIA5gA1AEEAWgB8AD0ATwBNAD4AQgBLAFEAeABLAKsAQgBUAHIAQABAAUAAjABlAFIAfwBZAEcAbACAAGMA+gDwAEcAAAFEAEUASgBlAE0ARQBkAC4AQABaAGIAtACBAE8ARQBFAL4A7wBoAHkAcgCRAIsAiwA2AHEAOwBNAEgAVwBMAEcATwA2AE0AcABjAHMAZQByAHIA1QB2ALMAgQBlAI0AOABLAJsASwBDAIIAggCNAFkATACDAE0ATQCFAK4ATgBZAEcAUwBBAEQAUwBEAEkAuQBkAF0AVwBcADYAsgA3AEwAZgBUAFAAbgCjAKIAPAC9AFAAPQBaAGAAPAB4AE0AWgBZAEYAUABCAGcAQwBpAIEAPAB8AGUAOAB8AIUAZQC9APoAPAB9ACsAewBMAFsAUAAtAHgAawBhAHgARABrAEYAeABlAHUARQBGAFQATQBSAHEARwBFAEMAPAByAEgAbQBgAEwARgBwAEUAMQBCAHgAXQBZAF8AJABEAAEBjACRALEAZAB7AF4ATAA3AFcA1wCnAHcAVgDIADIAYgAzAFsAUgBAAFMAWgBPAKcAVwBhADsAZACnAMgAMgA6AHIAfwB/ACcAyADhAEYAawBUAHcATgBvAF4A0gBUAFUAWwBuAEYAMABHAEQALgDoAEEAeABAAE8AZwBrAD8AQABUACsARQBjAF8ARwBCAGgATQDaAAABVwA+AHMAPwBQAE8ANAA9AE0ATAB3AEUAUQBDAG0ASwBcAF0AUwBXAFcAUwBMAEwARwBlAG0ATgBWAE4APwDDAFMATQAwAFEAPwBMAFEAQgB5AFYAUQBRAA==",
           "dtype": "i2"
          },
          "sizemode": "area",
          "sizeref": 0.8975
         },
         "mode": "markers",
         "name": "",
         "showlegend": false,
         "subplot": "map",
         "type": "scattermap"
        }
       ],
       "layout": {
        "coloraxis": {
         "colorbar": {
          "title": {
           "text": "price"
          }
         },
         "colorscale": [
          [
           0,
           "#0d0887"
          ],
          [
           0.1111111111111111,
           "#46039f"
          ],
          [
           0.2222222222222222,
           "#7201a8"
          ],
          [
           0.3333333333333333,
           "#9c179e"
          ],
          [
           0.4444444444444444,
           "#bd3786"
          ],
          [
           0.5555555555555556,
           "#d8576b"
          ],
          [
           0.6666666666666666,
           "#ed7953"
          ],
          [
           0.7777777777777778,
           "#fb9f3a"
          ],
          [
           0.8888888888888888,
           "#fdca26"
          ],
          [
           1,
           "#f0f921"
          ]
         ]
        },
        "legend": {
         "itemsizing": "constant",
         "tracegroupgap": 0
        },
        "map": {
         "center": {
          "lat": 40.48673356086956,
          "lon": -3.3677817913043477
         },
         "domain": {
          "x": [
           0,
           1
          ],
          "y": [
           0,
           1
          ]
         },
         "zoom": 13
        },
        "mapbox": {
         "center": {
          "lat": 40.48673356086956,
          "lon": -3.3677817913043477
         },
         "zoom": 13
        },
        "margin": {
         "b": 0,
         "l": 0,
         "r": 0,
         "t": 0
        },
        "template": {
         "data": {
          "bar": [
           {
            "error_x": {
             "color": "#2a3f5f"
            },
            "error_y": {
             "color": "#2a3f5f"
            },
            "marker": {
             "line": {
              "color": "#E5ECF6",
              "width": 0.5
             },
             "pattern": {
              "fillmode": "overlay",
              "size": 10,
              "solidity": 0.2
             }
            },
            "type": "bar"
           }
          ],
          "barpolar": [
           {
            "marker": {
             "line": {
              "color": "#E5ECF6",
              "width": 0.5
             },
             "pattern": {
              "fillmode": "overlay",
              "size": 10,
              "solidity": 0.2
             }
            },
            "type": "barpolar"
           }
          ],
          "carpet": [
           {
            "aaxis": {
             "endlinecolor": "#2a3f5f",
             "gridcolor": "white",
             "linecolor": "white",
             "minorgridcolor": "white",
             "startlinecolor": "#2a3f5f"
            },
            "baxis": {
             "endlinecolor": "#2a3f5f",
             "gridcolor": "white",
             "linecolor": "white",
             "minorgridcolor": "white",
             "startlinecolor": "#2a3f5f"
            },
            "type": "carpet"
           }
          ],
          "choropleth": [
           {
            "colorbar": {
             "outlinewidth": 0,
             "ticks": ""
            },
            "type": "choropleth"
           }
          ],
          "contour": [
           {
            "colorbar": {
             "outlinewidth": 0,
             "ticks": ""
            },
            "colorscale": [
             [
              0,
              "#0d0887"
             ],
             [
              0.1111111111111111,
              "#46039f"
             ],
             [
              0.2222222222222222,
              "#7201a8"
             ],
             [
              0.3333333333333333,
              "#9c179e"
             ],
             [
              0.4444444444444444,
              "#bd3786"
             ],
             [
              0.5555555555555556,
              "#d8576b"
             ],
             [
              0.6666666666666666,
              "#ed7953"
             ],
             [
              0.7777777777777778,
              "#fb9f3a"
             ],
             [
              0.8888888888888888,
              "#fdca26"
             ],
             [
              1,
              "#f0f921"
             ]
            ],
            "type": "contour"
           }
          ],
          "contourcarpet": [
           {
            "colorbar": {
             "outlinewidth": 0,
             "ticks": ""
            },
            "type": "contourcarpet"
           }
          ],
          "heatmap": [
           {
            "colorbar": {
             "outlinewidth": 0,
             "ticks": ""
            },
            "colorscale": [
             [
              0,
              "#0d0887"
             ],
             [
              0.1111111111111111,
              "#46039f"
             ],
             [
              0.2222222222222222,
              "#7201a8"
             ],
             [
              0.3333333333333333,
              "#9c179e"
             ],
             [
              0.4444444444444444,
              "#bd3786"
             ],
             [
              0.5555555555555556,
              "#d8576b"
             ],
             [
              0.6666666666666666,
              "#ed7953"
             ],
             [
              0.7777777777777778,
              "#fb9f3a"
             ],
             [
              0.8888888888888888,
              "#fdca26"
             ],
             [
              1,
              "#f0f921"
             ]
            ],
            "type": "heatmap"
           }
          ],
          "histogram": [
           {
            "marker": {
             "pattern": {
              "fillmode": "overlay",
              "size": 10,
              "solidity": 0.2
             }
            },
            "type": "histogram"
           }
          ],
          "histogram2d": [
           {
            "colorbar": {
             "outlinewidth": 0,
             "ticks": ""
            },
            "colorscale": [
             [
              0,
              "#0d0887"
             ],
             [
              0.1111111111111111,
              "#46039f"
             ],
             [
              0.2222222222222222,
              "#7201a8"
             ],
             [
              0.3333333333333333,
              "#9c179e"
             ],
             [
              0.4444444444444444,
              "#bd3786"
             ],
             [
              0.5555555555555556,
              "#d8576b"
             ],
             [
              0.6666666666666666,
              "#ed7953"
             ],
             [
              0.7777777777777778,
              "#fb9f3a"
             ],
             [
              0.8888888888888888,
              "#fdca26"
             ],
             [
              1,
              "#f0f921"
             ]
            ],
            "type": "histogram2d"
           }
          ],
          "histogram2dcontour": [
           {
            "colorbar": {
             "outlinewidth": 0,
             "ticks": ""
            },
            "colorscale": [
             [
              0,
              "#0d0887"
             ],
             [
              0.1111111111111111,
              "#46039f"
             ],
             [
              0.2222222222222222,
              "#7201a8"
             ],
             [
              0.3333333333333333,
              "#9c179e"
             ],
             [
              0.4444444444444444,
              "#bd3786"
             ],
             [
              0.5555555555555556,
              "#d8576b"
             ],
             [
              0.6666666666666666,
              "#ed7953"
             ],
             [
              0.7777777777777778,
              "#fb9f3a"
             ],
             [
              0.8888888888888888,
              "#fdca26"
             ],
             [
              1,
              "#f0f921"
             ]
            ],
            "type": "histogram2dcontour"
           }
          ],
          "mesh3d": [
           {
            "colorbar": {
             "outlinewidth": 0,
             "ticks": ""
            },
            "type": "mesh3d"
           }
          ],
          "parcoords": [
           {
            "line": {
             "colorbar": {
              "outlinewidth": 0,
              "ticks": ""
             }
            },
            "type": "parcoords"
           }
          ],
          "pie": [
           {
            "automargin": true,
            "type": "pie"
           }
          ],
          "scatter": [
           {
            "fillpattern": {
             "fillmode": "overlay",
             "size": 10,
             "solidity": 0.2
            },
            "type": "scatter"
           }
          ],
          "scatter3d": [
           {
            "line": {
             "colorbar": {
              "outlinewidth": 0,
              "ticks": ""
             }
            },
            "marker": {
             "colorbar": {
              "outlinewidth": 0,
              "ticks": ""
             }
            },
            "type": "scatter3d"
           }
          ],
          "scattercarpet": [
           {
            "marker": {
             "colorbar": {
              "outlinewidth": 0,
              "ticks": ""
             }
            },
            "type": "scattercarpet"
           }
          ],
          "scattergeo": [
           {
            "marker": {
             "colorbar": {
              "outlinewidth": 0,
              "ticks": ""
             }
            },
            "type": "scattergeo"
           }
          ],
          "scattergl": [
           {
            "marker": {
             "colorbar": {
              "outlinewidth": 0,
              "ticks": ""
             }
            },
            "type": "scattergl"
           }
          ],
          "scattermap": [
           {
            "marker": {
             "colorbar": {
              "outlinewidth": 0,
              "ticks": ""
             }
            },
            "type": "scattermap"
           }
          ],
          "scattermapbox": [
           {
            "marker": {
             "colorbar": {
              "outlinewidth": 0,
              "ticks": ""
             }
            },
            "type": "scattermapbox"
           }
          ],
          "scatterpolar": [
           {
            "marker": {
             "colorbar": {
              "outlinewidth": 0,
              "ticks": ""
             }
            },
            "type": "scatterpolar"
           }
          ],
          "scatterpolargl": [
           {
            "marker": {
             "colorbar": {
              "outlinewidth": 0,
              "ticks": ""
             }
            },
            "type": "scatterpolargl"
           }
          ],
          "scatterternary": [
           {
            "marker": {
             "colorbar": {
              "outlinewidth": 0,
              "ticks": ""
             }
            },
            "type": "scatterternary"
           }
          ],
          "surface": [
           {
            "colorbar": {
             "outlinewidth": 0,
             "ticks": ""
            },
            "colorscale": [
             [
              0,
              "#0d0887"
             ],
             [
              0.1111111111111111,
              "#46039f"
             ],
             [
              0.2222222222222222,
              "#7201a8"
             ],
             [
              0.3333333333333333,
              "#9c179e"
             ],
             [
              0.4444444444444444,
              "#bd3786"
             ],
             [
              0.5555555555555556,
              "#d8576b"
             ],
             [
              0.6666666666666666,
              "#ed7953"
             ],
             [
              0.7777777777777778,
              "#fb9f3a"
             ],
             [
              0.8888888888888888,
              "#fdca26"
             ],
             [
              1,
              "#f0f921"
             ]
            ],
            "type": "surface"
           }
          ],
          "table": [
           {
            "cells": {
             "fill": {
              "color": "#EBF0F8"
             },
             "line": {
              "color": "white"
             }
            },
            "header": {
             "fill": {
              "color": "#C8D4E3"
             },
             "line": {
              "color": "white"
             }
            },
            "type": "table"
           }
          ]
         },
         "layout": {
          "annotationdefaults": {
           "arrowcolor": "#2a3f5f",
           "arrowhead": 0,
           "arrowwidth": 1
          },
          "autotypenumbers": "strict",
          "coloraxis": {
           "colorbar": {
            "outlinewidth": 0,
            "ticks": ""
           }
          },
          "colorscale": {
           "diverging": [
            [
             0,
             "#8e0152"
            ],
            [
             0.1,
             "#c51b7d"
            ],
            [
             0.2,
             "#de77ae"
            ],
            [
             0.3,
             "#f1b6da"
            ],
            [
             0.4,
             "#fde0ef"
            ],
            [
             0.5,
             "#f7f7f7"
            ],
            [
             0.6,
             "#e6f5d0"
            ],
            [
             0.7,
             "#b8e186"
            ],
            [
             0.8,
             "#7fbc41"
            ],
            [
             0.9,
             "#4d9221"
            ],
            [
             1,
             "#276419"
            ]
           ],
           "sequential": [
            [
             0,
             "#0d0887"
            ],
            [
             0.1111111111111111,
             "#46039f"
            ],
            [
             0.2222222222222222,
             "#7201a8"
            ],
            [
             0.3333333333333333,
             "#9c179e"
            ],
            [
             0.4444444444444444,
             "#bd3786"
            ],
            [
             0.5555555555555556,
             "#d8576b"
            ],
            [
             0.6666666666666666,
             "#ed7953"
            ],
            [
             0.7777777777777778,
             "#fb9f3a"
            ],
            [
             0.8888888888888888,
             "#fdca26"
            ],
            [
             1,
             "#f0f921"
            ]
           ],
           "sequentialminus": [
            [
             0,
             "#0d0887"
            ],
            [
             0.1111111111111111,
             "#46039f"
            ],
            [
             0.2222222222222222,
             "#7201a8"
            ],
            [
             0.3333333333333333,
             "#9c179e"
            ],
            [
             0.4444444444444444,
             "#bd3786"
            ],
            [
             0.5555555555555556,
             "#d8576b"
            ],
            [
             0.6666666666666666,
             "#ed7953"
            ],
            [
             0.7777777777777778,
             "#fb9f3a"
            ],
            [
             0.8888888888888888,
             "#fdca26"
            ],
            [
             1,
             "#f0f921"
            ]
           ]
          },
          "colorway": [
           "#636efa",
           "#EF553B",
           "#00cc96",
           "#ab63fa",
           "#FFA15A",
           "#19d3f3",
           "#FF6692",
           "#B6E880",
           "#FF97FF",
           "#FECB52"
          ],
          "font": {
           "color": "#2a3f5f"
          },
          "geo": {
           "bgcolor": "white",
           "lakecolor": "white",
           "landcolor": "#E5ECF6",
           "showlakes": true,
           "showland": true,
           "subunitcolor": "white"
          },
          "hoverlabel": {
           "align": "left"
          },
          "hovermode": "closest",
          "mapbox": {
           "style": "light"
          },
          "paper_bgcolor": "white",
          "plot_bgcolor": "#E5ECF6",
          "polar": {
           "angularaxis": {
            "gridcolor": "white",
            "linecolor": "white",
            "ticks": ""
           },
           "bgcolor": "#E5ECF6",
           "radialaxis": {
            "gridcolor": "white",
            "linecolor": "white",
            "ticks": ""
           }
          },
          "scene": {
           "xaxis": {
            "backgroundcolor": "#E5ECF6",
            "gridcolor": "white",
            "gridwidth": 2,
            "linecolor": "white",
            "showbackground": true,
            "ticks": "",
            "zerolinecolor": "white"
           },
           "yaxis": {
            "backgroundcolor": "#E5ECF6",
            "gridcolor": "white",
            "gridwidth": 2,
            "linecolor": "white",
            "showbackground": true,
            "ticks": "",
            "zerolinecolor": "white"
           },
           "zaxis": {
            "backgroundcolor": "#E5ECF6",
            "gridcolor": "white",
            "gridwidth": 2,
            "linecolor": "white",
            "showbackground": true,
            "ticks": "",
            "zerolinecolor": "white"
           }
          },
          "shapedefaults": {
           "line": {
            "color": "#2a3f5f"
           }
          },
          "ternary": {
           "aaxis": {
            "gridcolor": "white",
            "linecolor": "white",
            "ticks": ""
           },
           "baxis": {
            "gridcolor": "white",
            "linecolor": "white",
            "ticks": ""
           },
           "bgcolor": "#E5ECF6",
           "caxis": {
            "gridcolor": "white",
            "linecolor": "white",
            "ticks": ""
           }
          },
          "title": {
           "x": 0.05
          },
          "xaxis": {
           "automargin": true,
           "gridcolor": "white",
           "linecolor": "white",
           "ticks": "",
           "title": {
            "standoff": 15
           },
           "zerolinecolor": "white",
           "zerolinewidth": 2
          },
          "yaxis": {
           "automargin": true,
           "gridcolor": "white",
           "linecolor": "white",
           "ticks": "",
           "title": {
            "standoff": 15
           },
           "zerolinecolor": "white",
           "zerolinewidth": 2
          }
         }
        }
       }
      }
     },
     "metadata": {},
     "output_type": "display_data"
    }
   ],
   "source": [
    "import plotly.express as px\n",
    "\n",
    "fig = px.scatter_map(df.query(\"price<5e5\"), lat=\"latitude\", lon=\"longitude\", color=\"price\", size=\"size\", zoom=13) \n",
    "fig.update_layout(\n",
    "    margin={\"r\":0,\"t\":0,\"l\":0,\"b\":0},\n",
    "    # map_style=\"satellite-streets\"\n",
    ")\n",
    "fig.show()"
   ]
  },
  {
   "cell_type": "code",
   "execution_count": 13,
   "id": "8b687cc1",
   "metadata": {},
   "outputs": [
    {
     "data": {
      "application/vnd.plotly.v1+json": {
       "config": {
        "plotlyServerURL": "https://plot.ly"
       },
       "data": [
        {
         "hovertemplate": "size=%{marker.size}<br>latitude=%{lat}<br>longitude=%{lon}<br>eur_m2=%{marker.color}<extra></extra>",
         "lat": {
          "bdata": "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",
          "dtype": "f8"
         },
         "legendgroup": "",
         "lon": {
          "bdata": "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",
          "dtype": "f8"
         },
         "marker": {
          "color": {
           "bdata": "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",
           "dtype": "f8"
          },
          "coloraxis": "coloraxis",
          "size": {
           "bdata": "QwCMAEAAPABTAGAAUABIAEwAVwBfAGEAVABpAGYAWABKAEwAbgBCAGQAWgA2ADYANgBRAF0ASAA/AI8ANwA2AD8AUwBHAGAAXADGADAAkgB9AEMAcADgAE4ASgBDANsAZwFEAKUASwBQANsAdwA/AFIA5gA1AEEAWgB8AD0ATwBNAD4AQgBLAFEAeABLAKsAQgBUAHIAQABAAUAAjABlAFIAfwBZAEcAbACAAGMA+gDwAEcAAAFEAEUASgBlAE0ARQBkAC4AQABaAGIAtACBAE8ARQBFAL4A7wBoAHkAcgCRAIsAiwA2AHEAOwBNAEgAVwBMAEcATwA2AE0AcABjAHMAZQByAHIA1QB2ALMAgQBlAI0AOABLAJsASwBDAIIAggCNAFkATACDAE0ATQCFAK4ATgBZAEcAUwBBAEQAUwBEAEkAuQBkAF0AVwBcADYAsgA3AEwAZgBUAFAAbgCjAKIAPAC9AFAAPQBaAGAAPAB4AE0AWgBZAEYAUABCAGcAQwBpAIEAPAB8AGUAOAB8AIUAZQC9APoAPAB9ACsAewBMAFsAUAAtAHgAawBhAHgARABrAEYAeABlAHUARQBGAFQATQBSAHEARwBFAEMAPAByAEgAbQBgAEwARgBwAEUAMQBCAHgAXQBZAF8AJABEAAEBjACRALEAZAB7AF4ATAA3AFcA1wCnAHcAVgDIADIAYgAzAFsAUgBAAFMAWgBPAKcAVwBhADsAZACnAMgAMgA6AHIAfwB/ACcAyADhAEYAawBUAHcATgBvAF4A0gBUAFUAWwBuAEYAMABHAEQALgDoAEEAeABAAE8AZwBrAD8AQABUACsARQBjAF8ARwBCAGgATQDaAAABVwA+AHMAPwBQAE8ANAA9AE0ATAB3AEUAUQBDAG0ASwBcAF0AUwBXAFcAUwBMAEwARwBlAG0ATgBWAE4APwDDAFMATQAwAFEAPwBMAFEAQgB5AFYAUQBRAA==",
           "dtype": "i2"
          },
          "sizemode": "area",
          "sizeref": 0.8975
         },
         "mode": "markers",
         "name": "",
         "showlegend": false,
         "subplot": "map",
         "type": "scattermap"
        }
       ],
       "layout": {
        "coloraxis": {
         "colorbar": {
          "title": {
           "text": "eur_m2"
          }
         },
         "colorscale": [
          [
           0,
           "#0d0887"
          ],
          [
           0.1111111111111111,
           "#46039f"
          ],
          [
           0.2222222222222222,
           "#7201a8"
          ],
          [
           0.3333333333333333,
           "#9c179e"
          ],
          [
           0.4444444444444444,
           "#bd3786"
          ],
          [
           0.5555555555555556,
           "#d8576b"
          ],
          [
           0.6666666666666666,
           "#ed7953"
          ],
          [
           0.7777777777777778,
           "#fb9f3a"
          ],
          [
           0.8888888888888888,
           "#fdca26"
          ],
          [
           1,
           "#f0f921"
          ]
         ]
        },
        "legend": {
         "itemsizing": "constant",
         "tracegroupgap": 0
        },
        "map": {
         "center": {
          "lat": 40.48673356086956,
          "lon": -3.3677817913043477
         },
         "domain": {
          "x": [
           0,
           1
          ],
          "y": [
           0,
           1
          ]
         },
         "style": "carto-positron",
         "zoom": 13
        },
        "mapbox": {
         "center": {
          "lat": 40.48673356086956,
          "lon": -3.3677817913043477
         },
         "zoom": 13
        },
        "margin": {
         "b": 0,
         "l": 0,
         "r": 0,
         "t": 0
        },
        "template": {
         "data": {
          "bar": [
           {
            "error_x": {
             "color": "#2a3f5f"
            },
            "error_y": {
             "color": "#2a3f5f"
            },
            "marker": {
             "line": {
              "color": "#E5ECF6",
              "width": 0.5
             },
             "pattern": {
              "fillmode": "overlay",
              "size": 10,
              "solidity": 0.2
             }
            },
            "type": "bar"
           }
          ],
          "barpolar": [
           {
            "marker": {
             "line": {
              "color": "#E5ECF6",
              "width": 0.5
             },
             "pattern": {
              "fillmode": "overlay",
              "size": 10,
              "solidity": 0.2
             }
            },
            "type": "barpolar"
           }
          ],
          "carpet": [
           {
            "aaxis": {
             "endlinecolor": "#2a3f5f",
             "gridcolor": "white",
             "linecolor": "white",
             "minorgridcolor": "white",
             "startlinecolor": "#2a3f5f"
            },
            "baxis": {
             "endlinecolor": "#2a3f5f",
             "gridcolor": "white",
             "linecolor": "white",
             "minorgridcolor": "white",
             "startlinecolor": "#2a3f5f"
            },
            "type": "carpet"
           }
          ],
          "choropleth": [
           {
            "colorbar": {
             "outlinewidth": 0,
             "ticks": ""
            },
            "type": "choropleth"
           }
          ],
          "contour": [
           {
            "colorbar": {
             "outlinewidth": 0,
             "ticks": ""
            },
            "colorscale": [
             [
              0,
              "#0d0887"
             ],
             [
              0.1111111111111111,
              "#46039f"
             ],
             [
              0.2222222222222222,
              "#7201a8"
             ],
             [
              0.3333333333333333,
              "#9c179e"
             ],
             [
              0.4444444444444444,
              "#bd3786"
             ],
             [
              0.5555555555555556,
              "#d8576b"
             ],
             [
              0.6666666666666666,
              "#ed7953"
             ],
             [
              0.7777777777777778,
              "#fb9f3a"
             ],
             [
              0.8888888888888888,
              "#fdca26"
             ],
             [
              1,
              "#f0f921"
             ]
            ],
            "type": "contour"
           }
          ],
          "contourcarpet": [
           {
            "colorbar": {
             "outlinewidth": 0,
             "ticks": ""
            },
            "type": "contourcarpet"
           }
          ],
          "heatmap": [
           {
            "colorbar": {
             "outlinewidth": 0,
             "ticks": ""
            },
            "colorscale": [
             [
              0,
              "#0d0887"
             ],
             [
              0.1111111111111111,
              "#46039f"
             ],
             [
              0.2222222222222222,
              "#7201a8"
             ],
             [
              0.3333333333333333,
              "#9c179e"
             ],
             [
              0.4444444444444444,
              "#bd3786"
             ],
             [
              0.5555555555555556,
              "#d8576b"
             ],
             [
              0.6666666666666666,
              "#ed7953"
             ],
             [
              0.7777777777777778,
              "#fb9f3a"
             ],
             [
              0.8888888888888888,
              "#fdca26"
             ],
             [
              1,
              "#f0f921"
             ]
            ],
            "type": "heatmap"
           }
          ],
          "histogram": [
           {
            "marker": {
             "pattern": {
              "fillmode": "overlay",
              "size": 10,
              "solidity": 0.2
             }
            },
            "type": "histogram"
           }
          ],
          "histogram2d": [
           {
            "colorbar": {
             "outlinewidth": 0,
             "ticks": ""
            },
            "colorscale": [
             [
              0,
              "#0d0887"
             ],
             [
              0.1111111111111111,
              "#46039f"
             ],
             [
              0.2222222222222222,
              "#7201a8"
             ],
             [
              0.3333333333333333,
              "#9c179e"
             ],
             [
              0.4444444444444444,
              "#bd3786"
             ],
             [
              0.5555555555555556,
              "#d8576b"
             ],
             [
              0.6666666666666666,
              "#ed7953"
             ],
             [
              0.7777777777777778,
              "#fb9f3a"
             ],
             [
              0.8888888888888888,
              "#fdca26"
             ],
             [
              1,
              "#f0f921"
             ]
            ],
            "type": "histogram2d"
           }
          ],
          "histogram2dcontour": [
           {
            "colorbar": {
             "outlinewidth": 0,
             "ticks": ""
            },
            "colorscale": [
             [
              0,
              "#0d0887"
             ],
             [
              0.1111111111111111,
              "#46039f"
             ],
             [
              0.2222222222222222,
              "#7201a8"
             ],
             [
              0.3333333333333333,
              "#9c179e"
             ],
             [
              0.4444444444444444,
              "#bd3786"
             ],
             [
              0.5555555555555556,
              "#d8576b"
             ],
             [
              0.6666666666666666,
              "#ed7953"
             ],
             [
              0.7777777777777778,
              "#fb9f3a"
             ],
             [
              0.8888888888888888,
              "#fdca26"
             ],
             [
              1,
              "#f0f921"
             ]
            ],
            "type": "histogram2dcontour"
           }
          ],
          "mesh3d": [
           {
            "colorbar": {
             "outlinewidth": 0,
             "ticks": ""
            },
            "type": "mesh3d"
           }
          ],
          "parcoords": [
           {
            "line": {
             "colorbar": {
              "outlinewidth": 0,
              "ticks": ""
             }
            },
            "type": "parcoords"
           }
          ],
          "pie": [
           {
            "automargin": true,
            "type": "pie"
           }
          ],
          "scatter": [
           {
            "fillpattern": {
             "fillmode": "overlay",
             "size": 10,
             "solidity": 0.2
            },
            "type": "scatter"
           }
          ],
          "scatter3d": [
           {
            "line": {
             "colorbar": {
              "outlinewidth": 0,
              "ticks": ""
             }
            },
            "marker": {
             "colorbar": {
              "outlinewidth": 0,
              "ticks": ""
             }
            },
            "type": "scatter3d"
           }
          ],
          "scattercarpet": [
           {
            "marker": {
             "colorbar": {
              "outlinewidth": 0,
              "ticks": ""
             }
            },
            "type": "scattercarpet"
           }
          ],
          "scattergeo": [
           {
            "marker": {
             "colorbar": {
              "outlinewidth": 0,
              "ticks": ""
             }
            },
            "type": "scattergeo"
           }
          ],
          "scattergl": [
           {
            "marker": {
             "colorbar": {
              "outlinewidth": 0,
              "ticks": ""
             }
            },
            "type": "scattergl"
           }
          ],
          "scattermap": [
           {
            "marker": {
             "colorbar": {
              "outlinewidth": 0,
              "ticks": ""
             }
            },
            "type": "scattermap"
           }
          ],
          "scattermapbox": [
           {
            "marker": {
             "colorbar": {
              "outlinewidth": 0,
              "ticks": ""
             }
            },
            "type": "scattermapbox"
           }
          ],
          "scatterpolar": [
           {
            "marker": {
             "colorbar": {
              "outlinewidth": 0,
              "ticks": ""
             }
            },
            "type": "scatterpolar"
           }
          ],
          "scatterpolargl": [
           {
            "marker": {
             "colorbar": {
              "outlinewidth": 0,
              "ticks": ""
             }
            },
            "type": "scatterpolargl"
           }
          ],
          "scatterternary": [
           {
            "marker": {
             "colorbar": {
              "outlinewidth": 0,
              "ticks": ""
             }
            },
            "type": "scatterternary"
           }
          ],
          "surface": [
           {
            "colorbar": {
             "outlinewidth": 0,
             "ticks": ""
            },
            "colorscale": [
             [
              0,
              "#0d0887"
             ],
             [
              0.1111111111111111,
              "#46039f"
             ],
             [
              0.2222222222222222,
              "#7201a8"
             ],
             [
              0.3333333333333333,
              "#9c179e"
             ],
             [
              0.4444444444444444,
              "#bd3786"
             ],
             [
              0.5555555555555556,
              "#d8576b"
             ],
             [
              0.6666666666666666,
              "#ed7953"
             ],
             [
              0.7777777777777778,
              "#fb9f3a"
             ],
             [
              0.8888888888888888,
              "#fdca26"
             ],
             [
              1,
              "#f0f921"
             ]
            ],
            "type": "surface"
           }
          ],
          "table": [
           {
            "cells": {
             "fill": {
              "color": "#EBF0F8"
             },
             "line": {
              "color": "white"
             }
            },
            "header": {
             "fill": {
              "color": "#C8D4E3"
             },
             "line": {
              "color": "white"
             }
            },
            "type": "table"
           }
          ]
         },
         "layout": {
          "annotationdefaults": {
           "arrowcolor": "#2a3f5f",
           "arrowhead": 0,
           "arrowwidth": 1
          },
          "autotypenumbers": "strict",
          "coloraxis": {
           "colorbar": {
            "outlinewidth": 0,
            "ticks": ""
           }
          },
          "colorscale": {
           "diverging": [
            [
             0,
             "#8e0152"
            ],
            [
             0.1,
             "#c51b7d"
            ],
            [
             0.2,
             "#de77ae"
            ],
            [
             0.3,
             "#f1b6da"
            ],
            [
             0.4,
             "#fde0ef"
            ],
            [
             0.5,
             "#f7f7f7"
            ],
            [
             0.6,
             "#e6f5d0"
            ],
            [
             0.7,
             "#b8e186"
            ],
            [
             0.8,
             "#7fbc41"
            ],
            [
             0.9,
             "#4d9221"
            ],
            [
             1,
             "#276419"
            ]
           ],
           "sequential": [
            [
             0,
             "#0d0887"
            ],
            [
             0.1111111111111111,
             "#46039f"
            ],
            [
             0.2222222222222222,
             "#7201a8"
            ],
            [
             0.3333333333333333,
             "#9c179e"
            ],
            [
             0.4444444444444444,
             "#bd3786"
            ],
            [
             0.5555555555555556,
             "#d8576b"
            ],
            [
             0.6666666666666666,
             "#ed7953"
            ],
            [
             0.7777777777777778,
             "#fb9f3a"
            ],
            [
             0.8888888888888888,
             "#fdca26"
            ],
            [
             1,
             "#f0f921"
            ]
           ],
           "sequentialminus": [
            [
             0,
             "#0d0887"
            ],
            [
             0.1111111111111111,
             "#46039f"
            ],
            [
             0.2222222222222222,
             "#7201a8"
            ],
            [
             0.3333333333333333,
             "#9c179e"
            ],
            [
             0.4444444444444444,
             "#bd3786"
            ],
            [
             0.5555555555555556,
             "#d8576b"
            ],
            [
             0.6666666666666666,
             "#ed7953"
            ],
            [
             0.7777777777777778,
             "#fb9f3a"
            ],
            [
             0.8888888888888888,
             "#fdca26"
            ],
            [
             1,
             "#f0f921"
            ]
           ]
          },
          "colorway": [
           "#636efa",
           "#EF553B",
           "#00cc96",
           "#ab63fa",
           "#FFA15A",
           "#19d3f3",
           "#FF6692",
           "#B6E880",
           "#FF97FF",
           "#FECB52"
          ],
          "font": {
           "color": "#2a3f5f"
          },
          "geo": {
           "bgcolor": "white",
           "lakecolor": "white",
           "landcolor": "#E5ECF6",
           "showlakes": true,
           "showland": true,
           "subunitcolor": "white"
          },
          "hoverlabel": {
           "align": "left"
          },
          "hovermode": "closest",
          "mapbox": {
           "style": "light"
          },
          "paper_bgcolor": "white",
          "plot_bgcolor": "#E5ECF6",
          "polar": {
           "angularaxis": {
            "gridcolor": "white",
            "linecolor": "white",
            "ticks": ""
           },
           "bgcolor": "#E5ECF6",
           "radialaxis": {
            "gridcolor": "white",
            "linecolor": "white",
            "ticks": ""
           }
          },
          "scene": {
           "xaxis": {
            "backgroundcolor": "#E5ECF6",
            "gridcolor": "white",
            "gridwidth": 2,
            "linecolor": "white",
            "showbackground": true,
            "ticks": "",
            "zerolinecolor": "white"
           },
           "yaxis": {
            "backgroundcolor": "#E5ECF6",
            "gridcolor": "white",
            "gridwidth": 2,
            "linecolor": "white",
            "showbackground": true,
            "ticks": "",
            "zerolinecolor": "white"
           },
           "zaxis": {
            "backgroundcolor": "#E5ECF6",
            "gridcolor": "white",
            "gridwidth": 2,
            "linecolor": "white",
            "showbackground": true,
            "ticks": "",
            "zerolinecolor": "white"
           }
          },
          "shapedefaults": {
           "line": {
            "color": "#2a3f5f"
           }
          },
          "ternary": {
           "aaxis": {
            "gridcolor": "white",
            "linecolor": "white",
            "ticks": ""
           },
           "baxis": {
            "gridcolor": "white",
            "linecolor": "white",
            "ticks": ""
           },
           "bgcolor": "#E5ECF6",
           "caxis": {
            "gridcolor": "white",
            "linecolor": "white",
            "ticks": ""
           }
          },
          "title": {
           "x": 0.05
          },
          "xaxis": {
           "automargin": true,
           "gridcolor": "white",
           "linecolor": "white",
           "ticks": "",
           "title": {
            "standoff": 15
           },
           "zerolinecolor": "white",
           "zerolinewidth": 2
          },
          "yaxis": {
           "automargin": true,
           "gridcolor": "white",
           "linecolor": "white",
           "ticks": "",
           "title": {
            "standoff": 15
           },
           "zerolinecolor": "white",
           "zerolinewidth": 2
          }
         }
        }
       }
      }
     },
     "metadata": {},
     "output_type": "display_data"
    }
   ],
   "source": [
    "df['eur_m2']=df['price']/df['size']\n",
    "\n",
    "fig = px.scatter_map(df.query(\"price<5e5\"), lat=\"latitude\", lon=\"longitude\", color=\"eur_m2\", size='size', zoom=13)\n",
    "fig.update_layout(\n",
    "    margin={\"r\":0,\"t\":0,\"l\":0,\"b\":0},\n",
    "    map_style=\"carto-positron\"\n",
    ")\n",
    "fig.show()"
   ]
  },
  {
   "cell_type": "code",
   "execution_count": 47,
   "id": "aff770d6",
   "metadata": {},
   "outputs": [
    {
     "data": {
      "application/vnd.plotly.v1+json": {
       "config": {
        "plotlyServerURL": "https://plot.ly"
       },
       "data": [
        {
         "hovertemplate": "size=%{x}<br>price=%{y}<extra></extra>",
         "legendgroup": "",
         "marker": {
          "color": "#636efa",
          "symbol": "circle"
         },
         "mode": "markers",
         "name": "",
         "orientation": "v",
         "showlegend": false,
         "type": "scatter",
         "x": {
          "bdata": "QwCMAEAAPABTAGAAUABIAEwAVwBfAK8AYQBUAGkAZgBYAEoATABuAEIAZABaADYANgA2AFEAXQBIAD8AjwA3ADYAPwBTAEcAsABgAFwAxgAwAJIAfQBDAHAATgBKAEMARAClAEsAUADHAKQAdwA/AFIAdAA1AEEAWgB8AD0ATwBNAD4AQgBLAFEAeAChAEsAqwBCAFQAcgBAAEAAjADEAGUAUgB/AFkARwBsAIAAYwBHAEQARQBKAGUATQBFAGQALgBAAFoAYgC0AIEATwBFAEUAvgBoAHkAcgCRAIsAiwA2AHEAOwBNAEgAVwBMAEcATwA2AE0AcABjAHMAZQByAHIArAB2ALMAgQBlAI0AOABLAJsASwBDAIIAggCNAFkATACDAE0ATQDCAIkAhQCuAE4AWQBHAFMAQQBEAFMARABJALkAuAC5AGQAXQBXAFwANgCyALIANwBMAGYAVACXAFAAbgCjAKIAPAC9AFAAPQBaAGAAPAB4AE0AlQBaAFkARgBQAEIAZwBDAGkAgQA8AHwAZQA4AHwAhQBlAL0APAB9ACsAewBMAFsAUAAtAHgAawBhAHgARABrAEYAeABlAHUARQBGAFQATQBSAHEARwBFAEMAPAByAEgAbQBgAEwARgBwAEUAMQBCAHgAXQBZAF8AJABEAIwAkQCxAGQAewBeAEwANwBXAKcAdwBWADIAYgAzAFsAUgBAAFMAWgBPAKcAVwBhADsAZACnADIAOgByAH8AfwAnAEYAawBUAHcATgBvAF4AVABVAFsAbgDEAEYAMABHAEQALgBBAHgAhABAAE8AZwBrAD8AQABUACsARQBjAF8ARwBCAGgATQBXAD4AcwA/AFAATwA0AD0ATQBMAHcARQBRAEMAbQBLAFwAXQBTAFcAVwBTAEwATABHAGUAbQBOAFYATgA/AMMAUwBNADAAUQA/AEwAUQBCAHkAVgBRAFEA",
          "dtype": "i2"
         },
         "xaxis": "x",
         "y": {
          "bdata": "jKcDANDdBgCAqQMANKsCAJilAwAMggMAfJMEAGQgAwCYqwIAKAsEAGihBQBwZAgAtOMDAAg6BAATpAUAnFIHAKjSAgB4zgQAOLsCAOjlBADobgMAWIAEAPiVAwBTCAQABQsEABMMBADYTQIALEACAIxJAgBYjAIA2LgFAKB6AwBQNAMACL0DAHrPAQAw5gIAMMgHAKwIBQDYxAMAEIAGAOhuAwDQ3QYA+I8EAFgJAwDMVgUAMGkCAEjiAgCYqwIABBcDAJtuBQBgWwMA0GwEANBICgDIAggAyJEFAD6CAwAw5gIAOJcIACC/AgDA1AEAUDQDADDaBACo0gIA3AwDANB4AgA4PgIAqNICAEweBAC8vgIAIK0FAEBgCgDodAIAWHQGAKjSAgDIIAMAaDADAMggAwAYZwMAoGgGADDIBwBYegUA/+EEAOCNBQBIUwUAPOQCAKD3AwDgkwQAcAsCAFyNAgB4DAMAWKoCAFA0AwA89wMAIMUBAIiEAgDwSQIA6PcBAESLAwAA4gQA3m4DAIhmBwCQQQYAWAkDAIAsAwCALAMA+AAHAADiBADYuAUAOKMGAOAEBwCIbAYAiGwGALkbBAA8vAYAaHgEAJDWBACXFQUAluEFAPtJBQAnRwQAY9oEACcNBACk1wQAKLsGAJBBBgBw8wUAxN8GANBgBgCwjwYAGMYIAHg/BwCE2QYAbN0GAMDUAQAY2AUA8D0EAKwOBACIZgcAOCwFANwMAwDIDgYAeMgFANDjBQCAIAUA6N8FAIhmBwBoJAUAAF8FADDIBwAgoQcA1AYHALRUBgCYmQUAiOkGAHRHAwBoMAMAGFUGAKB6AwBoMAMAoHoDAPTvAgBQmQcAuNsHAMCwBwBQpQUAcPMFALhqBQBgzAUAPPcDACChBwCYjQcAODIEAHAFAwA4owYAtMoDAIhgCAA85AIA7KQFAHNuBQCQQQYA6G4DAIhmBwAY6gIAkE0EACCtBQCslwIAWAkDAGgwAwAw5gIAbMwIAIiEAgCYKAMArJcCALw7AwAgvwIAqNgBAJDWAgCAqQMAaKcEAJirAgCgbgUAFD4DAFT5AgCgbgUA+I8EAKjMAwBY8QYA2EcDADDaBAAY8AEA8LoEAAi9AwB4VwMAiIQCAEjoAQBoMAMAuPkCAPxaAwCozAMAeF0CAIRoBABgWwMAaKcEAPiVAwB8kwQAMv0CAHhdAgDAUQIA8EMDAABxAgBsbAQAEBUDAECQAgA4wQEAdLECAHwEBwBgWwMAKHwGAGgwAwCkqQIAiH4DAGinBADcDAMASDMCAGSjAgBopwQAzqoBAPQ6AwAsQAIA2NABAFA0AwAIvQMA6PgFAPgGBgBooQUAEAkFABCMBAAMggMAjMADAAhAAwAYVQYAaKcEAGBVBABQNAMAYE8FALTpAgBwggMA6G4DAICpAwBYhgMAaDADAFCxAwDAtgYAYFsDAMzlAgBQNAMAGG0CAMC2BgCo0gIA9nACAGgwAwC4agUAuGoFAAhMAQCg9wMALNADAJDQAwBopwQAeGMBAOD2AAA4uwIACMkBAFCkAQDA1AEAvEcBADDIBwCo0gIAEJgCAOwzAwDodAIAkFkCAGgwAwDIIAMAcGQIAOh0AgBQsQMAwNQBANBsBAAgQgIA6HQCAMggAwAY8AEAgCwDAOj3AQB8kwQAaLMCAJirAgAA4gQA2EcDANBsBAAIvQMA+I8EAHjgAQD4mwIAuPkCAPZwAgBYjAIAxvsBADDmAgBopwQAEJgCACiUAgAgvwIAvEcBAMxDBADA1AEALEACAAjJAQAIQAMACEADABCYAgAw5gIAMOYCANAtAgDA1AEAvEcBAHhjAQB6zwEAeGMBAPT7AADE3wYAEJgCACh1AwCg/QIA2E0CAFiMAgDwSQIA6G4DAHhjAQBoPAEAes8BALAqAgAc8QEA",
          "dtype": "i4"
         },
         "yaxis": "y"
        }
       ],
       "layout": {
        "legend": {
         "tracegroupgap": 0
        },
        "margin": {
         "t": 60
        },
        "template": {
         "data": {
          "bar": [
           {
            "error_x": {
             "color": "#2a3f5f"
            },
            "error_y": {
             "color": "#2a3f5f"
            },
            "marker": {
             "line": {
              "color": "#E5ECF6",
              "width": 0.5
             },
             "pattern": {
              "fillmode": "overlay",
              "size": 10,
              "solidity": 0.2
             }
            },
            "type": "bar"
           }
          ],
          "barpolar": [
           {
            "marker": {
             "line": {
              "color": "#E5ECF6",
              "width": 0.5
             },
             "pattern": {
              "fillmode": "overlay",
              "size": 10,
              "solidity": 0.2
             }
            },
            "type": "barpolar"
           }
          ],
          "carpet": [
           {
            "aaxis": {
             "endlinecolor": "#2a3f5f",
             "gridcolor": "white",
             "linecolor": "white",
             "minorgridcolor": "white",
             "startlinecolor": "#2a3f5f"
            },
            "baxis": {
             "endlinecolor": "#2a3f5f",
             "gridcolor": "white",
             "linecolor": "white",
             "minorgridcolor": "white",
             "startlinecolor": "#2a3f5f"
            },
            "type": "carpet"
           }
          ],
          "choropleth": [
           {
            "colorbar": {
             "outlinewidth": 0,
             "ticks": ""
            },
            "type": "choropleth"
           }
          ],
          "contour": [
           {
            "colorbar": {
             "outlinewidth": 0,
             "ticks": ""
            },
            "colorscale": [
             [
              0,
              "#0d0887"
             ],
             [
              0.1111111111111111,
              "#46039f"
             ],
             [
              0.2222222222222222,
              "#7201a8"
             ],
             [
              0.3333333333333333,
              "#9c179e"
             ],
             [
              0.4444444444444444,
              "#bd3786"
             ],
             [
              0.5555555555555556,
              "#d8576b"
             ],
             [
              0.6666666666666666,
              "#ed7953"
             ],
             [
              0.7777777777777778,
              "#fb9f3a"
             ],
             [
              0.8888888888888888,
              "#fdca26"
             ],
             [
              1,
              "#f0f921"
             ]
            ],
            "type": "contour"
           }
          ],
          "contourcarpet": [
           {
            "colorbar": {
             "outlinewidth": 0,
             "ticks": ""
            },
            "type": "contourcarpet"
           }
          ],
          "heatmap": [
           {
            "colorbar": {
             "outlinewidth": 0,
             "ticks": ""
            },
            "colorscale": [
             [
              0,
              "#0d0887"
             ],
             [
              0.1111111111111111,
              "#46039f"
             ],
             [
              0.2222222222222222,
              "#7201a8"
             ],
             [
              0.3333333333333333,
              "#9c179e"
             ],
             [
              0.4444444444444444,
              "#bd3786"
             ],
             [
              0.5555555555555556,
              "#d8576b"
             ],
             [
              0.6666666666666666,
              "#ed7953"
             ],
             [
              0.7777777777777778,
              "#fb9f3a"
             ],
             [
              0.8888888888888888,
              "#fdca26"
             ],
             [
              1,
              "#f0f921"
             ]
            ],
            "type": "heatmap"
           }
          ],
          "histogram": [
           {
            "marker": {
             "pattern": {
              "fillmode": "overlay",
              "size": 10,
              "solidity": 0.2
             }
            },
            "type": "histogram"
           }
          ],
          "histogram2d": [
           {
            "colorbar": {
             "outlinewidth": 0,
             "ticks": ""
            },
            "colorscale": [
             [
              0,
              "#0d0887"
             ],
             [
              0.1111111111111111,
              "#46039f"
             ],
             [
              0.2222222222222222,
              "#7201a8"
             ],
             [
              0.3333333333333333,
              "#9c179e"
             ],
             [
              0.4444444444444444,
              "#bd3786"
             ],
             [
              0.5555555555555556,
              "#d8576b"
             ],
             [
              0.6666666666666666,
              "#ed7953"
             ],
             [
              0.7777777777777778,
              "#fb9f3a"
             ],
             [
              0.8888888888888888,
              "#fdca26"
             ],
             [
              1,
              "#f0f921"
             ]
            ],
            "type": "histogram2d"
           }
          ],
          "histogram2dcontour": [
           {
            "colorbar": {
             "outlinewidth": 0,
             "ticks": ""
            },
            "colorscale": [
             [
              0,
              "#0d0887"
             ],
             [
              0.1111111111111111,
              "#46039f"
             ],
             [
              0.2222222222222222,
              "#7201a8"
             ],
             [
              0.3333333333333333,
              "#9c179e"
             ],
             [
              0.4444444444444444,
              "#bd3786"
             ],
             [
              0.5555555555555556,
              "#d8576b"
             ],
             [
              0.6666666666666666,
              "#ed7953"
             ],
             [
              0.7777777777777778,
              "#fb9f3a"
             ],
             [
              0.8888888888888888,
              "#fdca26"
             ],
             [
              1,
              "#f0f921"
             ]
            ],
            "type": "histogram2dcontour"
           }
          ],
          "mesh3d": [
           {
            "colorbar": {
             "outlinewidth": 0,
             "ticks": ""
            },
            "type": "mesh3d"
           }
          ],
          "parcoords": [
           {
            "line": {
             "colorbar": {
              "outlinewidth": 0,
              "ticks": ""
             }
            },
            "type": "parcoords"
           }
          ],
          "pie": [
           {
            "automargin": true,
            "type": "pie"
           }
          ],
          "scatter": [
           {
            "fillpattern": {
             "fillmode": "overlay",
             "size": 10,
             "solidity": 0.2
            },
            "type": "scatter"
           }
          ],
          "scatter3d": [
           {
            "line": {
             "colorbar": {
              "outlinewidth": 0,
              "ticks": ""
             }
            },
            "marker": {
             "colorbar": {
              "outlinewidth": 0,
              "ticks": ""
             }
            },
            "type": "scatter3d"
           }
          ],
          "scattercarpet": [
           {
            "marker": {
             "colorbar": {
              "outlinewidth": 0,
              "ticks": ""
             }
            },
            "type": "scattercarpet"
           }
          ],
          "scattergeo": [
           {
            "marker": {
             "colorbar": {
              "outlinewidth": 0,
              "ticks": ""
             }
            },
            "type": "scattergeo"
           }
          ],
          "scattergl": [
           {
            "marker": {
             "colorbar": {
              "outlinewidth": 0,
              "ticks": ""
             }
            },
            "type": "scattergl"
           }
          ],
          "scattermap": [
           {
            "marker": {
             "colorbar": {
              "outlinewidth": 0,
              "ticks": ""
             }
            },
            "type": "scattermap"
           }
          ],
          "scattermapbox": [
           {
            "marker": {
             "colorbar": {
              "outlinewidth": 0,
              "ticks": ""
             }
            },
            "type": "scattermapbox"
           }
          ],
          "scatterpolar": [
           {
            "marker": {
             "colorbar": {
              "outlinewidth": 0,
              "ticks": ""
             }
            },
            "type": "scatterpolar"
           }
          ],
          "scatterpolargl": [
           {
            "marker": {
             "colorbar": {
              "outlinewidth": 0,
              "ticks": ""
             }
            },
            "type": "scatterpolargl"
           }
          ],
          "scatterternary": [
           {
            "marker": {
             "colorbar": {
              "outlinewidth": 0,
              "ticks": ""
             }
            },
            "type": "scatterternary"
           }
          ],
          "surface": [
           {
            "colorbar": {
             "outlinewidth": 0,
             "ticks": ""
            },
            "colorscale": [
             [
              0,
              "#0d0887"
             ],
             [
              0.1111111111111111,
              "#46039f"
             ],
             [
              0.2222222222222222,
              "#7201a8"
             ],
             [
              0.3333333333333333,
              "#9c179e"
             ],
             [
              0.4444444444444444,
              "#bd3786"
             ],
             [
              0.5555555555555556,
              "#d8576b"
             ],
             [
              0.6666666666666666,
              "#ed7953"
             ],
             [
              0.7777777777777778,
              "#fb9f3a"
             ],
             [
              0.8888888888888888,
              "#fdca26"
             ],
             [
              1,
              "#f0f921"
             ]
            ],
            "type": "surface"
           }
          ],
          "table": [
           {
            "cells": {
             "fill": {
              "color": "#EBF0F8"
             },
             "line": {
              "color": "white"
             }
            },
            "header": {
             "fill": {
              "color": "#C8D4E3"
             },
             "line": {
              "color": "white"
             }
            },
            "type": "table"
           }
          ]
         },
         "layout": {
          "annotationdefaults": {
           "arrowcolor": "#2a3f5f",
           "arrowhead": 0,
           "arrowwidth": 1
          },
          "autotypenumbers": "strict",
          "coloraxis": {
           "colorbar": {
            "outlinewidth": 0,
            "ticks": ""
           }
          },
          "colorscale": {
           "diverging": [
            [
             0,
             "#8e0152"
            ],
            [
             0.1,
             "#c51b7d"
            ],
            [
             0.2,
             "#de77ae"
            ],
            [
             0.3,
             "#f1b6da"
            ],
            [
             0.4,
             "#fde0ef"
            ],
            [
             0.5,
             "#f7f7f7"
            ],
            [
             0.6,
             "#e6f5d0"
            ],
            [
             0.7,
             "#b8e186"
            ],
            [
             0.8,
             "#7fbc41"
            ],
            [
             0.9,
             "#4d9221"
            ],
            [
             1,
             "#276419"
            ]
           ],
           "sequential": [
            [
             0,
             "#0d0887"
            ],
            [
             0.1111111111111111,
             "#46039f"
            ],
            [
             0.2222222222222222,
             "#7201a8"
            ],
            [
             0.3333333333333333,
             "#9c179e"
            ],
            [
             0.4444444444444444,
             "#bd3786"
            ],
            [
             0.5555555555555556,
             "#d8576b"
            ],
            [
             0.6666666666666666,
             "#ed7953"
            ],
            [
             0.7777777777777778,
             "#fb9f3a"
            ],
            [
             0.8888888888888888,
             "#fdca26"
            ],
            [
             1,
             "#f0f921"
            ]
           ],
           "sequentialminus": [
            [
             0,
             "#0d0887"
            ],
            [
             0.1111111111111111,
             "#46039f"
            ],
            [
             0.2222222222222222,
             "#7201a8"
            ],
            [
             0.3333333333333333,
             "#9c179e"
            ],
            [
             0.4444444444444444,
             "#bd3786"
            ],
            [
             0.5555555555555556,
             "#d8576b"
            ],
            [
             0.6666666666666666,
             "#ed7953"
            ],
            [
             0.7777777777777778,
             "#fb9f3a"
            ],
            [
             0.8888888888888888,
             "#fdca26"
            ],
            [
             1,
             "#f0f921"
            ]
           ]
          },
          "colorway": [
           "#636efa",
           "#EF553B",
           "#00cc96",
           "#ab63fa",
           "#FFA15A",
           "#19d3f3",
           "#FF6692",
           "#B6E880",
           "#FF97FF",
           "#FECB52"
          ],
          "font": {
           "color": "#2a3f5f"
          },
          "geo": {
           "bgcolor": "white",
           "lakecolor": "white",
           "landcolor": "#E5ECF6",
           "showlakes": true,
           "showland": true,
           "subunitcolor": "white"
          },
          "hoverlabel": {
           "align": "left"
          },
          "hovermode": "closest",
          "mapbox": {
           "style": "light"
          },
          "paper_bgcolor": "white",
          "plot_bgcolor": "#E5ECF6",
          "polar": {
           "angularaxis": {
            "gridcolor": "white",
            "linecolor": "white",
            "ticks": ""
           },
           "bgcolor": "#E5ECF6",
           "radialaxis": {
            "gridcolor": "white",
            "linecolor": "white",
            "ticks": ""
           }
          },
          "scene": {
           "xaxis": {
            "backgroundcolor": "#E5ECF6",
            "gridcolor": "white",
            "gridwidth": 2,
            "linecolor": "white",
            "showbackground": true,
            "ticks": "",
            "zerolinecolor": "white"
           },
           "yaxis": {
            "backgroundcolor": "#E5ECF6",
            "gridcolor": "white",
            "gridwidth": 2,
            "linecolor": "white",
            "showbackground": true,
            "ticks": "",
            "zerolinecolor": "white"
           },
           "zaxis": {
            "backgroundcolor": "#E5ECF6",
            "gridcolor": "white",
            "gridwidth": 2,
            "linecolor": "white",
            "showbackground": true,
            "ticks": "",
            "zerolinecolor": "white"
           }
          },
          "shapedefaults": {
           "line": {
            "color": "#2a3f5f"
           }
          },
          "ternary": {
           "aaxis": {
            "gridcolor": "white",
            "linecolor": "white",
            "ticks": ""
           },
           "baxis": {
            "gridcolor": "white",
            "linecolor": "white",
            "ticks": ""
           },
           "bgcolor": "#E5ECF6",
           "caxis": {
            "gridcolor": "white",
            "linecolor": "white",
            "ticks": ""
           }
          },
          "title": {
           "x": 0.05
          },
          "xaxis": {
           "automargin": true,
           "gridcolor": "white",
           "linecolor": "white",
           "ticks": "",
           "title": {
            "standoff": 15
           },
           "zerolinecolor": "white",
           "zerolinewidth": 2
          },
          "yaxis": {
           "automargin": true,
           "gridcolor": "white",
           "linecolor": "white",
           "ticks": "",
           "title": {
            "standoff": 15
           },
           "zerolinecolor": "white",
           "zerolinewidth": 2
          }
         }
        },
        "xaxis": {
         "anchor": "y",
         "domain": [
          0,
          1
         ],
         "title": {
          "text": "size"
         }
        },
        "yaxis": {
         "anchor": "x",
         "domain": [
          0,
          1
         ],
         "title": {
          "text": "price"
         }
        }
       }
      }
     },
     "metadata": {},
     "output_type": "display_data"
    }
   ],
   "source": [
    "# px.scatter(df['size'], df['price'])\n",
    "df_ = df.query('size < 200')\n",
    "px.scatter(df_, x='size', y='price') #, log_x=True, log_y=True)"
   ]
  },
  {
   "cell_type": "markdown",
   "id": "d2023f4d",
   "metadata": {},
   "source": [
    "## Mínimos cuadrados ordinarios (OLS)\n",
    "\n",
    "Se usará la librería [statsmodels](https://www.statsmodels.org/stable/generated/statsmodels.regression.linear_model.OLS.html)."
   ]
  },
  {
   "cell_type": "code",
   "execution_count": 127,
   "id": "df46bf70",
   "metadata": {},
   "outputs": [],
   "source": [
    "import statsmodels.api as sm\n",
    "\n",
    "y = df_['price'].to_numpy()\n",
    "X = df_[['size']].to_numpy()\n",
    "\n",
    "# Añadir intercepto\n",
    "X = sm.add_constant(X)"
   ]
  },
  {
   "cell_type": "code",
   "execution_count": 128,
   "id": "04b2745c",
   "metadata": {},
   "outputs": [
    {
     "data": {
      "text/html": [
       "<table class=\"simpletable\">\n",
       "<caption>OLS Regression Results</caption>\n",
       "<tr>\n",
       "  <th>Dep. Variable:</th>            <td>y</td>        <th>  R-squared:         </th> <td>   0.540</td>\n",
       "</tr>\n",
       "<tr>\n",
       "  <th>Model:</th>                   <td>OLS</td>       <th>  Adj. R-squared:    </th> <td>   0.539</td>\n",
       "</tr>\n",
       "<tr>\n",
       "  <th>Method:</th>             <td>Least Squares</td>  <th>  F-statistic:       </th> <td>   423.9</td>\n",
       "</tr>\n",
       "<tr>\n",
       "  <th>Date:</th>             <td>Mon, 06 Oct 2025</td> <th>  Prob (F-statistic):</th> <td>7.43e-63</td>\n",
       "</tr>\n",
       "<tr>\n",
       "  <th>Time:</th>                 <td>16:04:32</td>     <th>  Log-Likelihood:    </th> <td> -4614.3</td>\n",
       "</tr>\n",
       "<tr>\n",
       "  <th>No. Observations:</th>      <td>   363</td>      <th>  AIC:               </th> <td>   9233.</td>\n",
       "</tr>\n",
       "<tr>\n",
       "  <th>Df Residuals:</th>          <td>   361</td>      <th>  BIC:               </th> <td>   9240.</td>\n",
       "</tr>\n",
       "<tr>\n",
       "  <th>Df Model:</th>              <td>     1</td>      <th>                     </th>     <td> </td>   \n",
       "</tr>\n",
       "<tr>\n",
       "  <th>Covariance Type:</th>      <td>nonrobust</td>    <th>                     </th>     <td> </td>   \n",
       "</tr>\n",
       "</table>\n",
       "<table class=\"simpletable\">\n",
       "<tr>\n",
       "    <td></td>       <th>coef</th>     <th>std err</th>      <th>t</th>      <th>P>|t|</th>  <th>[0.025</th>    <th>0.975]</th>  \n",
       "</tr>\n",
       "<tr>\n",
       "  <th>const</th> <td> 2.824e+04</td> <td> 1.23e+04</td> <td>    2.303</td> <td> 0.022</td> <td> 4125.215</td> <td> 5.23e+04</td>\n",
       "</tr>\n",
       "<tr>\n",
       "  <th>x1</th>    <td> 2503.7736</td> <td>  121.608</td> <td>   20.589</td> <td> 0.000</td> <td> 2264.625</td> <td> 2742.922</td>\n",
       "</tr>\n",
       "</table>\n",
       "<table class=\"simpletable\">\n",
       "<tr>\n",
       "  <th>Omnibus:</th>       <td> 4.038</td> <th>  Durbin-Watson:     </th> <td>   1.268</td>\n",
       "</tr>\n",
       "<tr>\n",
       "  <th>Prob(Omnibus):</th> <td> 0.133</td> <th>  Jarque-Bera (JB):  </th> <td>   4.746</td>\n",
       "</tr>\n",
       "<tr>\n",
       "  <th>Skew:</th>          <td> 0.079</td> <th>  Prob(JB):          </th> <td>  0.0932</td>\n",
       "</tr>\n",
       "<tr>\n",
       "  <th>Kurtosis:</th>      <td> 3.537</td> <th>  Cond. No.          </th> <td>    293.</td>\n",
       "</tr>\n",
       "</table><br/><br/>Notes:<br/>[1] Standard Errors assume that the covariance matrix of the errors is correctly specified."
      ],
      "text/latex": [
       "\\begin{center}\n",
       "\\begin{tabular}{lclc}\n",
       "\\toprule\n",
       "\\textbf{Dep. Variable:}    &        y         & \\textbf{  R-squared:         } &     0.540   \\\\\n",
       "\\textbf{Model:}            &       OLS        & \\textbf{  Adj. R-squared:    } &     0.539   \\\\\n",
       "\\textbf{Method:}           &  Least Squares   & \\textbf{  F-statistic:       } &     423.9   \\\\\n",
       "\\textbf{Date:}             & Mon, 06 Oct 2025 & \\textbf{  Prob (F-statistic):} &  7.43e-63   \\\\\n",
       "\\textbf{Time:}             &     16:04:32     & \\textbf{  Log-Likelihood:    } &   -4614.3   \\\\\n",
       "\\textbf{No. Observations:} &         363      & \\textbf{  AIC:               } &     9233.   \\\\\n",
       "\\textbf{Df Residuals:}     &         361      & \\textbf{  BIC:               } &     9240.   \\\\\n",
       "\\textbf{Df Model:}         &           1      & \\textbf{                     } &             \\\\\n",
       "\\textbf{Covariance Type:}  &    nonrobust     & \\textbf{                     } &             \\\\\n",
       "\\bottomrule\n",
       "\\end{tabular}\n",
       "\\begin{tabular}{lcccccc}\n",
       "               & \\textbf{coef} & \\textbf{std err} & \\textbf{t} & \\textbf{P$> |$t$|$} & \\textbf{[0.025} & \\textbf{0.975]}  \\\\\n",
       "\\midrule\n",
       "\\textbf{const} &    2.824e+04  &     1.23e+04     &     2.303  &         0.022        &     4125.215    &     5.23e+04     \\\\\n",
       "\\textbf{x1}    &    2503.7736  &      121.608     &    20.589  &         0.000        &     2264.625    &     2742.922     \\\\\n",
       "\\bottomrule\n",
       "\\end{tabular}\n",
       "\\begin{tabular}{lclc}\n",
       "\\textbf{Omnibus:}       &  4.038 & \\textbf{  Durbin-Watson:     } &    1.268  \\\\\n",
       "\\textbf{Prob(Omnibus):} &  0.133 & \\textbf{  Jarque-Bera (JB):  } &    4.746  \\\\\n",
       "\\textbf{Skew:}          &  0.079 & \\textbf{  Prob(JB):          } &   0.0932  \\\\\n",
       "\\textbf{Kurtosis:}      &  3.537 & \\textbf{  Cond. No.          } &     293.  \\\\\n",
       "\\bottomrule\n",
       "\\end{tabular}\n",
       "%\\caption{OLS Regression Results}\n",
       "\\end{center}\n",
       "\n",
       "Notes: \\newline\n",
       " [1] Standard Errors assume that the covariance matrix of the errors is correctly specified."
      ],
      "text/plain": [
       "<class 'statsmodels.iolib.summary.Summary'>\n",
       "\"\"\"\n",
       "                            OLS Regression Results                            \n",
       "==============================================================================\n",
       "Dep. Variable:                      y   R-squared:                       0.540\n",
       "Model:                            OLS   Adj. R-squared:                  0.539\n",
       "Method:                 Least Squares   F-statistic:                     423.9\n",
       "Date:                Mon, 06 Oct 2025   Prob (F-statistic):           7.43e-63\n",
       "Time:                        16:04:32   Log-Likelihood:                -4614.3\n",
       "No. Observations:                 363   AIC:                             9233.\n",
       "Df Residuals:                     361   BIC:                             9240.\n",
       "Df Model:                           1                                         \n",
       "Covariance Type:            nonrobust                                         \n",
       "==============================================================================\n",
       "                 coef    std err          t      P>|t|      [0.025      0.975]\n",
       "------------------------------------------------------------------------------\n",
       "const       2.824e+04   1.23e+04      2.303      0.022    4125.215    5.23e+04\n",
       "x1          2503.7736    121.608     20.589      0.000    2264.625    2742.922\n",
       "==============================================================================\n",
       "Omnibus:                        4.038   Durbin-Watson:                   1.268\n",
       "Prob(Omnibus):                  0.133   Jarque-Bera (JB):                4.746\n",
       "Skew:                           0.079   Prob(JB):                       0.0932\n",
       "Kurtosis:                       3.537   Cond. No.                         293.\n",
       "==============================================================================\n",
       "\n",
       "Notes:\n",
       "[1] Standard Errors assume that the covariance matrix of the errors is correctly specified.\n",
       "\"\"\""
      ]
     },
     "execution_count": 128,
     "metadata": {},
     "output_type": "execute_result"
    }
   ],
   "source": [
    "model = sm.OLS(y, X)\n",
    "results = model.fit()\n",
    "results.summary()"
   ]
  },
  {
   "cell_type": "code",
   "execution_count": 129,
   "id": "68e943c7",
   "metadata": {},
   "outputs": [
    {
     "data": {
      "text/plain": [
       "<matplotlib.legend.Legend at 0x123671310>"
      ]
     },
     "execution_count": 129,
     "metadata": {},
     "output_type": "execute_result"
    },
    {
     "data": {
      "image/png": "[encoded data removed]",
      "text/plain": [
       "<Figure size 640x480 with 1 Axes>"
      ]
     },
     "metadata": {},
     "output_type": "display_data"
    }
   ],
   "source": [
    "y_pred = results.predict(X)\n",
    "\n",
    "fig, ax = plt.subplots()\n",
    "ax.scatter(df_['size'], y, label='Valor real')\n",
    "ax.scatter(df_['size'], y_pred, label='Predicción OLS')\n",
    "ax.set_xlabel('Tamaño [m2]')\n",
    "ax.set_ylabel('Precio [€]')\n",
    "\n",
    "ax.legend()"
   ]
  },
  {
   "cell_type": "code",
   "execution_count": 137,
   "id": "d0c85388",
   "metadata": {},
   "outputs": [
    {
     "data": {
      "image/png": "[encoded data removed]",
      "text/plain": [
       "<Figure size 640x480 with 1 Axes>"
      ]
     },
     "metadata": {},
     "output_type": "display_data"
    }
   ],
   "source": [
    "# Residuos del modelo\n",
    "plt.scatter(X[:,1], y-y_pred)\n",
    "plt.title('Residuos');"
   ]
  },
  {
   "cell_type": "markdown",
   "id": "00b5b4ae",
   "metadata": {},
   "source": [
    "### Otros parámetros"
   ]
  },
  {
   "cell_type": "code",
   "execution_count": 138,
   "id": "5104cc66",
   "metadata": {},
   "outputs": [],
   "source": [
    "def floor_group(x):\n",
    "    if x == 'bj':\n",
    "        return 'Bajo'\n",
    "    elif x == 'en':\n",
    "        return 'Entreplanta'\n",
    "    else:\n",
    "        return 'Plantas superiores'\n",
    "\n",
    "df['floor_group'] = df['floor'].apply(floor_group)"
   ]
  },
  {
   "cell_type": "code",
   "execution_count": 139,
   "id": "554449a3",
   "metadata": {},
   "outputs": [
    {
     "data": {
      "text/plain": [
       "<Axes: ylabel='Precio por m2'>"
      ]
     },
     "execution_count": 139,
     "metadata": {},
     "output_type": "execute_result"
    },
    {
     "data": {
      "image/png": "[encoded data removed]",
      "text/plain": [
       "<Figure size 640x480 with 1 Axes>"
      ]
     },
     "metadata": {},
     "output_type": "display_data"
    }
   ],
   "source": [
    "df.groupby('floor_group')['eur_m2'].mean().plot.bar(rot=45, xlabel='', ylabel='Precio por m2')"
   ]
  },
  {
   "cell_type": "code",
   "execution_count": 144,
   "id": "43bdce6a",
   "metadata": {},
   "outputs": [
    {
     "data": {
      "text/html": [
       "<table class=\"simpletable\">\n",
       "<caption>OLS Regression Results</caption>\n",
       "<tr>\n",
       "  <th>Dep. Variable:</th>          <td>price</td>      <th>  R-squared:         </th> <td>   0.668</td>\n",
       "</tr>\n",
       "<tr>\n",
       "  <th>Model:</th>                   <td>OLS</td>       <th>  Adj. R-squared:    </th> <td>   0.664</td>\n",
       "</tr>\n",
       "<tr>\n",
       "  <th>Method:</th>             <td>Least Squares</td>  <th>  F-statistic:       </th> <td>   167.3</td>\n",
       "</tr>\n",
       "<tr>\n",
       "  <th>Date:</th>             <td>Mon, 06 Oct 2025</td> <th>  Prob (F-statistic):</th> <td>2.33e-78</td>\n",
       "</tr>\n",
       "<tr>\n",
       "  <th>Time:</th>                 <td>16:05:49</td>     <th>  Log-Likelihood:    </th> <td> -4208.4</td>\n",
       "</tr>\n",
       "<tr>\n",
       "  <th>No. Observations:</th>      <td>   338</td>      <th>  AIC:               </th> <td>   8427.</td>\n",
       "</tr>\n",
       "<tr>\n",
       "  <th>Df Residuals:</th>          <td>   333</td>      <th>  BIC:               </th> <td>   8446.</td>\n",
       "</tr>\n",
       "<tr>\n",
       "  <th>Df Model:</th>              <td>     4</td>      <th>                     </th>     <td> </td>   \n",
       "</tr>\n",
       "<tr>\n",
       "  <th>Covariance Type:</th>      <td>nonrobust</td>    <th>                     </th>     <td> </td>   \n",
       "</tr>\n",
       "</table>\n",
       "<table class=\"simpletable\">\n",
       "<tr>\n",
       "      <td></td>         <th>coef</th>     <th>std err</th>      <th>t</th>      <th>P>|t|</th>  <th>[0.025</th>    <th>0.975]</th>  \n",
       "</tr>\n",
       "<tr>\n",
       "  <th>const</th>     <td> 2.235e+04</td> <td> 1.25e+04</td> <td>    1.791</td> <td> 0.074</td> <td>-2198.191</td> <td> 4.69e+04</td>\n",
       "</tr>\n",
       "<tr>\n",
       "  <th>size</th>      <td> 1549.9461</td> <td>  178.273</td> <td>    8.694</td> <td> 0.000</td> <td> 1199.264</td> <td> 1900.628</td>\n",
       "</tr>\n",
       "<tr>\n",
       "  <th>rooms</th>     <td>-1.781e+04</td> <td> 5113.724</td> <td>   -3.482</td> <td> 0.001</td> <td>-2.79e+04</td> <td>-7746.023</td>\n",
       "</tr>\n",
       "<tr>\n",
       "  <th>bathrooms</th> <td> 7.049e+04</td> <td> 9001.882</td> <td>    7.831</td> <td> 0.000</td> <td> 5.28e+04</td> <td> 8.82e+04</td>\n",
       "</tr>\n",
       "<tr>\n",
       "  <th>hasLift</th>   <td>   6.3e+04</td> <td> 7632.384</td> <td>    8.255</td> <td> 0.000</td> <td>  4.8e+04</td> <td>  7.8e+04</td>\n",
       "</tr>\n",
       "</table>\n",
       "<table class=\"simpletable\">\n",
       "<tr>\n",
       "  <th>Omnibus:</th>       <td>22.565</td> <th>  Durbin-Watson:     </th> <td>   1.729</td>\n",
       "</tr>\n",
       "<tr>\n",
       "  <th>Prob(Omnibus):</th> <td> 0.000</td> <th>  Jarque-Bera (JB):  </th> <td>  47.663</td>\n",
       "</tr>\n",
       "<tr>\n",
       "  <th>Skew:</th>          <td>-0.343</td> <th>  Prob(JB):          </th> <td>4.47e-11</td>\n",
       "</tr>\n",
       "<tr>\n",
       "  <th>Kurtosis:</th>      <td> 4.707</td> <th>  Cond. No.          </th> <td>    371.</td>\n",
       "</tr>\n",
       "</table><br/><br/>Notes:<br/>[1] Standard Errors assume that the covariance matrix of the errors is correctly specified."
      ],
      "text/latex": [
       "\\begin{center}\n",
       "\\begin{tabular}{lclc}\n",
       "\\toprule\n",
       "\\textbf{Dep. Variable:}    &      price       & \\textbf{  R-squared:         } &     0.668   \\\\\n",
       "\\textbf{Model:}            &       OLS        & \\textbf{  Adj. R-squared:    } &     0.664   \\\\\n",
       "\\textbf{Method:}           &  Least Squares   & \\textbf{  F-statistic:       } &     167.3   \\\\\n",
       "\\textbf{Date:}             & Mon, 06 Oct 2025 & \\textbf{  Prob (F-statistic):} &  2.33e-78   \\\\\n",
       "\\textbf{Time:}             &     16:05:49     & \\textbf{  Log-Likelihood:    } &   -4208.4   \\\\\n",
       "\\textbf{No. Observations:} &         338      & \\textbf{  AIC:               } &     8427.   \\\\\n",
       "\\textbf{Df Residuals:}     &         333      & \\textbf{  BIC:               } &     8446.   \\\\\n",
       "\\textbf{Df Model:}         &           4      & \\textbf{                     } &             \\\\\n",
       "\\textbf{Covariance Type:}  &    nonrobust     & \\textbf{                     } &             \\\\\n",
       "\\bottomrule\n",
       "\\end{tabular}\n",
       "\\begin{tabular}{lcccccc}\n",
       "                   & \\textbf{coef} & \\textbf{std err} & \\textbf{t} & \\textbf{P$> |$t$|$} & \\textbf{[0.025} & \\textbf{0.975]}  \\\\\n",
       "\\midrule\n",
       "\\textbf{const}     &    2.235e+04  &     1.25e+04     &     1.791  &         0.074        &    -2198.191    &     4.69e+04     \\\\\n",
       "\\textbf{size}      &    1549.9461  &      178.273     &     8.694  &         0.000        &     1199.264    &     1900.628     \\\\\n",
       "\\textbf{rooms}     &   -1.781e+04  &     5113.724     &    -3.482  &         0.001        &    -2.79e+04    &    -7746.023     \\\\\n",
       "\\textbf{bathrooms} &    7.049e+04  &     9001.882     &     7.831  &         0.000        &     5.28e+04    &     8.82e+04     \\\\\n",
       "\\textbf{hasLift}   &      6.3e+04  &     7632.384     &     8.255  &         0.000        &      4.8e+04    &      7.8e+04     \\\\\n",
       "\\bottomrule\n",
       "\\end{tabular}\n",
       "\\begin{tabular}{lclc}\n",
       "\\textbf{Omnibus:}       & 22.565 & \\textbf{  Durbin-Watson:     } &    1.729  \\\\\n",
       "\\textbf{Prob(Omnibus):} &  0.000 & \\textbf{  Jarque-Bera (JB):  } &   47.663  \\\\\n",
       "\\textbf{Skew:}          & -0.343 & \\textbf{  Prob(JB):          } & 4.47e-11  \\\\\n",
       "\\textbf{Kurtosis:}      &  4.707 & \\textbf{  Cond. No.          } &     371.  \\\\\n",
       "\\bottomrule\n",
       "\\end{tabular}\n",
       "%\\caption{OLS Regression Results}\n",
       "\\end{center}\n",
       "\n",
       "Notes: \\newline\n",
       " [1] Standard Errors assume that the covariance matrix of the errors is correctly specified."
      ],
      "text/plain": [
       "<class 'statsmodels.iolib.summary.Summary'>\n",
       "\"\"\"\n",
       "                            OLS Regression Results                            \n",
       "==============================================================================\n",
       "Dep. Variable:                  price   R-squared:                       0.668\n",
       "Model:                            OLS   Adj. R-squared:                  0.664\n",
       "Method:                 Least Squares   F-statistic:                     167.3\n",
       "Date:                Mon, 06 Oct 2025   Prob (F-statistic):           2.33e-78\n",
       "Time:                        16:05:49   Log-Likelihood:                -4208.4\n",
       "No. Observations:                 338   AIC:                             8427.\n",
       "Df Residuals:                     333   BIC:                             8446.\n",
       "Df Model:                           4                                         \n",
       "Covariance Type:            nonrobust                                         \n",
       "==============================================================================\n",
       "                 coef    std err          t      P>|t|      [0.025      0.975]\n",
       "------------------------------------------------------------------------------\n",
       "const       2.235e+04   1.25e+04      1.791      0.074   -2198.191    4.69e+04\n",
       "size        1549.9461    178.273      8.694      0.000    1199.264    1900.628\n",
       "rooms      -1.781e+04   5113.724     -3.482      0.001   -2.79e+04   -7746.023\n",
       "bathrooms   7.049e+04   9001.882      7.831      0.000    5.28e+04    8.82e+04\n",
       "hasLift       6.3e+04   7632.384      8.255      0.000     4.8e+04     7.8e+04\n",
       "==============================================================================\n",
       "Omnibus:                       22.565   Durbin-Watson:                   1.729\n",
       "Prob(Omnibus):                  0.000   Jarque-Bera (JB):               47.663\n",
       "Skew:                          -0.343   Prob(JB):                     4.47e-11\n",
       "Kurtosis:                       4.707   Cond. No.                         371.\n",
       "==============================================================================\n",
       "\n",
       "Notes:\n",
       "[1] Standard Errors assume that the covariance matrix of the errors is correctly specified.\n",
       "\"\"\""
      ]
     },
     "execution_count": 144,
     "metadata": {},
     "output_type": "execute_result"
    }
   ],
   "source": [
    "import statsmodels.api as sm\n",
    "\n",
    "y = df_['price']\n",
    "X = df_[['size', 'rooms', 'bathrooms', 'hasLift']]\n",
    "\n",
    "mask = X.notna().all(axis=1)\n",
    "X = X[mask]\n",
    "y = y[mask]\n",
    "\n",
    "# Añadir intercepto\n",
    "X = sm.add_constant(X)\n",
    "\n",
    "model = sm.OLS(y, X)\n",
    "results = model.fit()\n",
    "results.summary()"
   ]
  }
 ],
 "metadata": {
  "kernelspec": {
   "display_name": "ufm-python-for-finance",
   "language": "python",
   "name": "python3"
  },
  "language_info": {
   "codemirror_mode": {
    "name": "ipython",
    "version": 3
   },
   "file_extension": ".py",
   "mimetype": "text/x-python",
   "name": "python",
   "nbconvert_exporter": "python",
   "pygments_lexer": "ipython3",
   "version": "3.13.5"
  }
 },
 "nbformat": 4,
 "nbformat_minor": 5
}
